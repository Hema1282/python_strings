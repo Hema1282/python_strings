{
 "cells": [
  {
   "cell_type": "markdown",
   "id": "3ae42eda-bf24-4e94-b259-f2b801a40b35",
   "metadata": {},
   "source": [
    "**July 10th 2024**"
   ]
  },
  {
   "cell_type": "code",
   "execution_count": 4,
   "id": "78b2f3d6-654a-4479-96eb-de8fb02a612f",
   "metadata": {},
   "outputs": [
    {
     "name": "stdout",
     "output_type": "stream",
     "text": [
      "Squares list :[1, 4, 9, 16, 25, 36, 49, 64, 81]\n"
     ]
    }
   ],
   "source": [
    "l=[i*i for i in range(1,10)]\n",
    "print(f\"Squares list :{l}\")"
   ]
  },
  {
   "cell_type": "code",
   "execution_count": null,
   "id": "e3b5fd02-c50d-484b-a1af-6c691999274e",
   "metadata": {},
   "outputs": [],
   "source": [
    "################Basis\n",
    "1)Variables\n",
    "2)Data types\n",
    "3)Type-conversion\n",
    "4)print\n",
    "5)eval \n",
    "6)packages\n",
    "7)Conditional stmts\n",
    "8)Try and exception\n",
    "9)for loop\n",
    "10)while loop\n",
    "\n",
    "\n",
    "----------------------Intermediate part\n",
    "11)Strings\n",
    "12)Lists\n",
    "13)Dictionary\n",
    "14)Tuples(You will do this)\n",
    "15)Sets\n",
    "16)Lambda functions\n",
    "17)File handling session\n",
    "\n",
    "--------------------Advanced\n",
    "18) Oops"
   ]
  },
  {
   "cell_type": "code",
   "execution_count": null,
   "id": "df8c6b63-33de-4076-bcbc-dbe00905a89c",
   "metadata": {},
   "outputs": [],
   "source": [
    "===================================Part-1===================================\n",
    "- Intialization\n",
    "\n",
    "- type\n",
    "\n",
    "- len\n",
    "\n",
    "- max\n",
    "\n",
    "- min\n",
    "\n",
    "- sorted\n",
    "\n",
    "- reversed\n",
    "\n",
    "- in \n",
    "\n",
    "- for loop\n",
    "\n",
    "- index\n",
    "\n",
    "- for loop using index\n",
    "\n",
    "- mutable\n",
    "\n",
    "- concatenation\n",
    "\n",
    "#=========================Part -2===================================\n",
    "\n",
    "- methods"
   ]
  },
  {
   "cell_type": "markdown",
   "id": "de8e3de3-5fc1-4ad1-bb38-506debfe826a",
   "metadata": {},
   "source": [
    "**Intialization**"
   ]
  },
  {
   "cell_type": "code",
   "execution_count": 1,
   "id": "978c2cc4-6e25-4fd8-b49f-0d7c50a240fd",
   "metadata": {},
   "outputs": [
    {
     "data": {
      "text/plain": [
       "'python'"
      ]
     },
     "execution_count": 1,
     "metadata": {},
     "output_type": "execute_result"
    }
   ],
   "source": [
    "str1='python'\n",
    "str1"
   ]
  },
  {
   "cell_type": "code",
   "execution_count": 6,
   "id": "d770e182-e52b-4bc9-bf8a-e596cf36f9f0",
   "metadata": {},
   "outputs": [
    {
     "data": {
      "text/plain": [
       "'Python'"
      ]
     },
     "execution_count": 6,
     "metadata": {},
     "output_type": "execute_result"
    }
   ],
   "source": [
    "str2=\"Python\"\n",
    "str2"
   ]
  },
  {
   "cell_type": "code",
   "execution_count": 7,
   "id": "8798da4e-9870-420c-846e-5791acd7bca7",
   "metadata": {},
   "outputs": [
    {
     "name": "stdout",
     "output_type": "stream",
     "text": [
      "python\n",
      "Python\n"
     ]
    }
   ],
   "source": [
    "print(str1)\n",
    "print(str2)# Do not confuse I am not seeing the quotes"
   ]
  },
  {
   "cell_type": "markdown",
   "id": "b6ea06d1-168a-4fba-a44c-7dd964c414da",
   "metadata": {},
   "source": [
    "**Note**\n",
    "\n",
    "- If we mention single quotes or double quotes by default python provides in single quotes only \n",
    "\n",
    "- If we print the strings ,we will see answer without quotes"
   ]
  },
  {
   "cell_type": "markdown",
   "id": "779217af-1e53-44b4-9518-1a979ad3cab5",
   "metadata": {},
   "source": [
    "**Triple quotes**"
   ]
  },
  {
   "cell_type": "code",
   "execution_count": 9,
   "id": "93f46b4f-40c9-4e50-b6a7-14e7cd9b83f3",
   "metadata": {},
   "outputs": [
    {
     "data": {
      "text/plain": [
       "'Hi hoe are you?\\n        I am good '"
      ]
     },
     "execution_count": 9,
     "metadata": {},
     "output_type": "execute_result"
    }
   ],
   "source": [
    "str3=\"\"\"Hi hoe are you?\n",
    "        I am good \"\"\"\n",
    "str3"
   ]
  },
  {
   "cell_type": "markdown",
   "id": "4c934bc0-3f39-4b97-9e48-46bac3e76bf8",
   "metadata": {},
   "source": [
    "**Note**\n",
    "\n",
    "- If we mention single quotes or double quotes by default python provides in single quotes only \n",
    "\n",
    "- If we print the strings ,we will see answer without quotes\n",
    "\n",
    "- Triple quotes are using for doc string\n",
    "\n",
    "- In order to convey the information about coding part we will use doc \n",
    "\n",
    "- anything inside the single or doublequotes is considered as a string in python"
   ]
  },
  {
   "cell_type": "markdown",
   "id": "38621e6e-aa50-4b8a-b652-271aac88e120",
   "metadata": {},
   "source": [
    "**type**"
   ]
  },
  {
   "cell_type": "code",
   "execution_count": 10,
   "id": "8a1d3949-5a1d-4f4e-9cec-c122fff19a5d",
   "metadata": {},
   "outputs": [
    {
     "data": {
      "text/plain": [
       "str"
      ]
     },
     "execution_count": 10,
     "metadata": {},
     "output_type": "execute_result"
    }
   ],
   "source": [
    "type(str1) # type is string type"
   ]
  },
  {
   "cell_type": "code",
   "execution_count": 14,
   "id": "4f0ce126-b1b3-4a58-a38e-8cc209e09109",
   "metadata": {},
   "outputs": [],
   "source": [
    "str4='10'     # integer value in the form of string \n",
    "str5='0.9'     # float value in the form of string\n",
    "str6='123abc'  # Alpha numeric in the form of string\n",
    "str7='True'    # boolean in the form of string\n",
    "str8='sinx'   \n",
    "\n",
    "# All are in quotes,means in red color : strings\n"
   ]
  },
  {
   "cell_type": "markdown",
   "id": "77cec2d5-c83e-4be7-a169-bb250bd3876b",
   "metadata": {},
   "source": [
    "**len**"
   ]
  },
  {
   "cell_type": "code",
   "execution_count": 12,
   "id": "0ab891e8-4953-4522-bd9e-104042878f06",
   "metadata": {},
   "outputs": [
    {
     "data": {
      "text/plain": [
       "6"
      ]
     },
     "execution_count": 12,
     "metadata": {},
     "output_type": "execute_result"
    }
   ],
   "source": [
    "str1='python'\n",
    "len(str1)"
   ]
  },
  {
   "cell_type": "code",
   "execution_count": 13,
   "id": "5ade27ca-4190-4944-afbc-8b5c18717b87",
   "metadata": {},
   "outputs": [
    {
     "data": {
      "text/plain": [
       "12"
      ]
     },
     "execution_count": 13,
     "metadata": {},
     "output_type": "execute_result"
    }
   ],
   "source": [
    "str9='Data science'\n",
    "len(str9)"
   ]
  },
  {
   "cell_type": "markdown",
   "id": "0604b026-1ae1-44dc-8e09-e7c07c121bbf",
   "metadata": {},
   "source": [
    "**max and min**"
   ]
  },
  {
   "cell_type": "code",
   "execution_count": 20,
   "id": "fe511229-8dfa-457b-ac34-7bf83808ea68",
   "metadata": {},
   "outputs": [
    {
     "data": {
      "text/plain": [
       "'y'"
      ]
     },
     "execution_count": 20,
     "metadata": {},
     "output_type": "execute_result"
    }
   ],
   "source": [
    "max(str1)\n",
    "ord('p')\n"
   ]
  },
  {
   "cell_type": "code",
   "execution_count": 26,
   "id": "ea2c4799-5524-44ca-abd7-f2d26accadc4",
   "metadata": {},
   "outputs": [
    {
     "data": {
      "text/plain": [
       "(112, 121, 116, 104, 111, 110, 32)"
      ]
     },
     "execution_count": 26,
     "metadata": {},
     "output_type": "execute_result"
    }
   ],
   "source": [
    "ord('p'),ord('y'),ord('t'),ord('h'),ord('o'),ord('n'),ord(' ')"
   ]
  },
  {
   "cell_type": "code",
   "execution_count": 25,
   "id": "1efdfadb-30bd-4a33-88e2-17824e53aa3d",
   "metadata": {},
   "outputs": [
    {
     "data": {
      "text/plain": [
       "'h'"
      ]
     },
     "execution_count": 25,
     "metadata": {},
     "output_type": "execute_result"
    }
   ],
   "source": [
    "min(str1)"
   ]
  },
  {
   "cell_type": "markdown",
   "id": "b63fab7a-070a-4ee0-8aa9-64e06ce94923",
   "metadata": {},
   "source": [
    "**Keywords Vs Methods**"
   ]
  },
  {
   "cell_type": "markdown",
   "id": "891e3296-db61-4545-8896-dee427ee9048",
   "metadata": {},
   "source": [
    "- we can use keywords directly but for methode we need to use packages\n",
    "\n",
    "\n",
    "- type(<>)\n",
    "\n",
    "\n",
    "- print(<>)\n",
    "\n",
    "- len(<>)\n",
    "\n",
    "- max(<>)\n",
    "\n",
    "- min(<>)\n",
    "\n",
    "- eval(<>)\n",
    "\n",
    "- input(<>)\n",
    "\n",
    "- sum(<>)"
   ]
  },
  {
   "cell_type": "code",
   "execution_count": null,
   "id": "280ca849-21c8-4fd8-b5b7-e9a68798431c",
   "metadata": {},
   "outputs": [],
   "source": [
    "- inorder to use methods we need to call packages\n",
    "\n",
    "import random\n",
    "random.randint()\n",
    "\n",
    "import math\n",
    "math.sqrt()\n",
    "\n",
    "import time\n",
    "time.sleep()\n",
    "\n"
   ]
  },
  {
   "cell_type": "code",
   "execution_count": 31,
   "id": "bd68b9ce-c84c-4c2f-88ba-21c076f8e7b8",
   "metadata": {},
   "outputs": [
    {
     "data": {
      "text/plain": [
       "'y'"
      ]
     },
     "execution_count": 31,
     "metadata": {},
     "output_type": "execute_result"
    }
   ],
   "source": [
    "str1='python'\n",
    "max(str1)"
   ]
  },
  {
   "cell_type": "markdown",
   "id": "11edb99f-312d-493d-b22f-e80315c299a8",
   "metadata": {},
   "source": [
    "**Sum**"
   ]
  },
  {
   "cell_type": "code",
   "execution_count": 30,
   "id": "89bc8e9e-06e9-433c-9ab1-417bb2bbc6e9",
   "metadata": {},
   "outputs": [
    {
     "ename": "TypeError",
     "evalue": "unsupported operand type(s) for +: 'int' and 'str'",
     "output_type": "error",
     "traceback": [
      "\u001b[1;31m---------------------------------------------------------------------------\u001b[0m",
      "\u001b[1;31mTypeError\u001b[0m                                 Traceback (most recent call last)",
      "Cell \u001b[1;32mIn[30], line 1\u001b[0m\n\u001b[1;32m----> 1\u001b[0m \u001b[38;5;28msum\u001b[39m(str1)\n",
      "\u001b[1;31mTypeError\u001b[0m: unsupported operand type(s) for +: 'int' and 'str'"
     ]
    }
   ],
   "source": [
    "sum(str1)"
   ]
  },
  {
   "cell_type": "code",
   "execution_count": 32,
   "id": "a8dff344-bde7-43f5-9c26-a80cf85e7f23",
   "metadata": {},
   "outputs": [
    {
     "data": {
      "text/plain": [
       "'py'"
      ]
     },
     "execution_count": 32,
     "metadata": {},
     "output_type": "execute_result"
    }
   ],
   "source": [
    "'p'+'y'"
   ]
  },
  {
   "cell_type": "code",
   "execution_count": 39,
   "id": "c4d9f2da-363f-4f88-b0e8-41a448f04cf7",
   "metadata": {},
   "outputs": [
    {
     "data": {
      "text/plain": [
       "6"
      ]
     },
     "execution_count": 39,
     "metadata": {},
     "output_type": "execute_result"
    }
   ],
   "source": [
    "sum([1,2,3])"
   ]
  },
  {
   "cell_type": "markdown",
   "id": "90bdfbc6-2cab-4f70-9b98-78a87060b863",
   "metadata": {},
   "source": [
    "**sorted**"
   ]
  },
  {
   "cell_type": "code",
   "execution_count": 42,
   "id": "b5ef4554-95fa-421f-a6ba-cf7adf79cda0",
   "metadata": {},
   "outputs": [
    {
     "name": "stdout",
     "output_type": "stream",
     "text": [
      "python\n"
     ]
    },
    {
     "data": {
      "text/plain": [
       "'h'"
      ]
     },
     "execution_count": 42,
     "metadata": {},
     "output_type": "execute_result"
    }
   ],
   "source": [
    "len('python')\n",
    "max('python')\n",
    "print('python')\n",
    "min('python')"
   ]
  },
  {
   "cell_type": "code",
   "execution_count": 43,
   "id": "36354e9e-5e51-4f16-bb50-101160f666d2",
   "metadata": {},
   "outputs": [
    {
     "data": {
      "text/plain": [
       "['h', 'n', 'o', 'p', 't', 'y']"
      ]
     },
     "execution_count": 43,
     "metadata": {},
     "output_type": "execute_result"
    }
   ],
   "source": [
    "sorted('python')"
   ]
  },
  {
   "cell_type": "markdown",
   "id": "a792ccf1-df43-43dd-8ab2-909ef91e71ce",
   "metadata": {},
   "source": [
    "- sorted gives ascending order based on ASCII numbers\n",
    "\n",
    "- sorted is kind of a function\n",
    "\n",
    "- Every function we have arguments\n",
    "\n",
    "- In that one default argument is **reverse=False**\n",
    "\n",
    "- By default sorted output gives **ascending order**\n",
    "\n",
    "- we can change the order, by providing **reverse=True**\n",
    "\n",
    "- **If we do not mention,it will give the dafault answer** "
   ]
  },
  {
   "cell_type": "code",
   "execution_count": null,
   "id": "8ef0efc6-88fd-4223-8eb0-232d8a129d1e",
   "metadata": {},
   "outputs": [],
   "source": [
    "sorted()"
   ]
  },
  {
   "cell_type": "code",
   "execution_count": 46,
   "id": "a9740236-38f6-434f-bb27-50edc393a03d",
   "metadata": {},
   "outputs": [
    {
     "data": {
      "text/plain": [
       "['y', 't', 'p', 'o', 'n', 'h']"
      ]
     },
     "execution_count": 46,
     "metadata": {},
     "output_type": "execute_result"
    }
   ],
   "source": [
    "str1='python'\n",
    "sorted(str1,reverse=True)"
   ]
  },
  {
   "cell_type": "code",
   "execution_count": 50,
   "id": "6129f61d-da2c-4b12-a55c-00426b1ae071",
   "metadata": {},
   "outputs": [
    {
     "data": {
      "text/plain": [
       "0j"
      ]
     },
     "execution_count": 50,
     "metadata": {},
     "output_type": "execute_result"
    }
   ],
   "source": [
    "complex() #0+0j=='0' has no value ,so we get only imaginary value ==> 0j\n",
    "# complex will have default values"
   ]
  },
  {
   "cell_type": "code",
   "execution_count": 48,
   "id": "24280322-d21e-498b-9575-c920cfa22bd8",
   "metadata": {},
   "outputs": [
    {
     "data": {
      "text/plain": [
       "(10+9j)"
      ]
     },
     "execution_count": 48,
     "metadata": {},
     "output_type": "execute_result"
    }
   ],
   "source": [
    "complex(real=10,imag=9)"
   ]
  },
  {
   "cell_type": "code",
   "execution_count": 49,
   "id": "7f4e0123-3a0c-49fc-97e9-8f53d8be9e07",
   "metadata": {},
   "outputs": [
    {
     "data": {
      "text/plain": [
       "(8+6j)"
      ]
     },
     "execution_count": 49,
     "metadata": {},
     "output_type": "execute_result"
    }
   ],
   "source": [
    "complex(real=8,imag=6)"
   ]
  },
  {
   "cell_type": "code",
   "execution_count": 51,
   "id": "c6214f0f-ed91-432b-ae1b-16d846fdca77",
   "metadata": {},
   "outputs": [
    {
     "data": {
      "text/plain": [
       "(10+9j)"
      ]
     },
     "execution_count": 51,
     "metadata": {},
     "output_type": "execute_result"
    }
   ],
   "source": [
    "complex(10,9)"
   ]
  },
  {
   "cell_type": "code",
   "execution_count": 52,
   "id": "321233dd-032d-4f42-aa42-8d9059bb904b",
   "metadata": {},
   "outputs": [
    {
     "ename": "TypeError",
     "evalue": "Random.randint() missing 2 required positional arguments: 'a' and 'b'",
     "output_type": "error",
     "traceback": [
      "\u001b[1;31m---------------------------------------------------------------------------\u001b[0m",
      "\u001b[1;31mTypeError\u001b[0m                                 Traceback (most recent call last)",
      "Cell \u001b[1;32mIn[52], line 2\u001b[0m\n\u001b[0;32m      1\u001b[0m \u001b[38;5;28;01mimport\u001b[39;00m \u001b[38;5;21;01mrandom\u001b[39;00m\n\u001b[1;32m----> 2\u001b[0m random\u001b[38;5;241m.\u001b[39mrandint()\n",
      "\u001b[1;31mTypeError\u001b[0m: Random.randint() missing 2 required positional arguments: 'a' and 'b'"
     ]
    }
   ],
   "source": [
    "import random\n",
    "random.randint()\n",
    "# we need to provide the values"
   ]
  },
  {
   "cell_type": "code",
   "execution_count": null,
   "id": "4a56243f-4d50-40f2-a774-544739b5b885",
   "metadata": {},
   "outputs": [],
   "source": [
    "function() # Ans \n",
    "function(a,b)# This might return error, if we don't give the values of a,b\n",
    "function(a=10,b=9)# Ans"
   ]
  },
  {
   "cell_type": "code",
   "execution_count": null,
   "id": "0158906e-1967-44f8-970a-34977a79bc7e",
   "metadata": {},
   "outputs": [],
   "source": [
    "random.random() # we will get answer but answer is not in your hands\n"
   ]
  },
  {
   "cell_type": "code",
   "execution_count": 53,
   "id": "eefe3053-5c19-437b-b5b8-ba37d7ff275f",
   "metadata": {},
   "outputs": [
    {
     "data": {
      "text/plain": [
       "12"
      ]
     },
     "execution_count": 53,
     "metadata": {},
     "output_type": "execute_result"
    }
   ],
   "source": [
    "import random\n",
    "random.randint(10,20) # Answer we can change"
   ]
  },
  {
   "cell_type": "code",
   "execution_count": 54,
   "id": "4a1c42ec-b939-4f91-8961-c6c76cad156e",
   "metadata": {},
   "outputs": [
    {
     "data": {
      "text/plain": [
       "0j"
      ]
     },
     "execution_count": 54,
     "metadata": {},
     "output_type": "execute_result"
    }
   ],
   "source": [
    "complex()  # By default 0,0"
   ]
  },
  {
   "cell_type": "code",
   "execution_count": 55,
   "id": "ae93d6e6-48ab-43a8-a801-2f12651772a4",
   "metadata": {},
   "outputs": [
    {
     "data": {
      "text/plain": [
       "(10+29j)"
      ]
     },
     "execution_count": 55,
     "metadata": {},
     "output_type": "execute_result"
    }
   ],
   "source": [
    "complex(10,29)"
   ]
  },
  {
   "cell_type": "code",
   "execution_count": 62,
   "id": "b13f1696-403d-40c9-a75e-15f68bb61150",
   "metadata": {},
   "outputs": [
    {
     "ename": "TypeError",
     "evalue": "sorted expected 1 argument, got 0",
     "output_type": "error",
     "traceback": [
      "\u001b[1;31m---------------------------------------------------------------------------\u001b[0m",
      "\u001b[1;31mTypeError\u001b[0m                                 Traceback (most recent call last)",
      "Cell \u001b[1;32mIn[62], line 1\u001b[0m\n\u001b[1;32m----> 1\u001b[0m \u001b[38;5;28msorted\u001b[39m(iterable\u001b[38;5;241m=\u001b[39m\u001b[38;5;124m'\u001b[39m\u001b[38;5;124mpython\u001b[39m\u001b[38;5;124m'\u001b[39m)\n",
      "\u001b[1;31mTypeError\u001b[0m: sorted expected 1 argument, got 0"
     ]
    }
   ],
   "source": [
    "sorted(iterable='python')\n"
   ]
  },
  {
   "cell_type": "code",
   "execution_count": 59,
   "id": "d620d254-c2e3-4297-81e5-81432262bee3",
   "metadata": {},
   "outputs": [
    {
     "data": {
      "text/plain": [
       "16"
      ]
     },
     "execution_count": 59,
     "metadata": {},
     "output_type": "execute_result"
    }
   ],
   "source": [
    "random.randint(a=10,b=20)"
   ]
  },
  {
   "cell_type": "code",
   "execution_count": 60,
   "id": "d8c05dca-0f2f-4d04-9cbd-469206cd505a",
   "metadata": {},
   "outputs": [
    {
     "data": {
      "text/plain": [
       "33"
      ]
     },
     "execution_count": 60,
     "metadata": {},
     "output_type": "execute_result"
    }
   ],
   "source": [
    "random.randint(20,40)"
   ]
  },
  {
   "cell_type": "code",
   "execution_count": null,
   "id": "c89534eb-e009-4f33-b83b-761c3aa6e57e",
   "metadata": {},
   "outputs": [],
   "source": [
    "sorted('python')\n",
    "sorted('python',reverse=True)"
   ]
  },
  {
   "cell_type": "markdown",
   "id": "1a0acb89-dd2b-40e3-bf8f-87d032ba8a38",
   "metadata": {},
   "source": [
    "- We have arguments before / and after slash\n",
    "\n",
    "- we can use arguments names after / only\n",
    "\n",
    "- For  example sorted has two arguments one is iterable and another one is reverse\n",
    "\n",
    "- iterable is mentioned before / symbol\n",
    "\n",
    "- reverse is mentioned after / symbol\n",
    "\n",
    "- so we can only use reverse argument name while we are doing the work \n",
    "\n",
    "- we can not use iterable argument name\n",
    "\n",
    "- Instead of using iterable name,we can provide direct value at that position"
   ]
  },
  {
   "cell_type": "markdown",
   "id": "45412135-bc3b-46ce-8dab-1f93d9ae5f3d",
   "metadata": {},
   "source": [
    "**reversed**"
   ]
  },
  {
   "cell_type": "code",
   "execution_count": 67,
   "id": "0bd1a0db-8507-47f6-b249-4eda7706a22b",
   "metadata": {},
   "outputs": [
    {
     "data": {
      "text/plain": [
       "<reversed at 0x256cb46c760>"
      ]
     },
     "execution_count": 67,
     "metadata": {},
     "output_type": "execute_result"
    }
   ],
   "source": [
    "s='python'\n",
    "reversed('python')\n"
   ]
  },
  {
   "cell_type": "markdown",
   "id": "0371c782-bad5-47d0-a236-b1ee457c6d84",
   "metadata": {},
   "source": [
    "- I already done my work\n",
    "\n",
    "- Your output is stored in that memory location\n",
    "\n",
    "- Whenever you see this kind of answer less than and greater than symbol or memory\n",
    "\n",
    "- use for loop to see the answer"
   ]
  },
  {
   "cell_type": "code",
   "execution_count": 71,
   "id": "c6105583-0ae6-40b6-a3a9-6964a34f2e4c",
   "metadata": {},
   "outputs": [
    {
     "name": "stdout",
     "output_type": "stream",
     "text": [
      "d\n",
      "c\n",
      "y\n",
      "z\n",
      "a\n"
     ]
    }
   ],
   "source": [
    "str1='azycd'\n",
    "output=reversed(str1)\n",
    "for i in output:\n",
    "    print(i)"
   ]
  },
  {
   "cell_type": "code",
   "execution_count": 70,
   "id": "49899d32-a6c1-4dd8-8722-c16e3c81d51b",
   "metadata": {},
   "outputs": [
    {
     "data": {
      "text/plain": [
       "['a', 'c', 'd', 'y', 'z']"
      ]
     },
     "execution_count": 70,
     "metadata": {},
     "output_type": "execute_result"
    }
   ],
   "source": [
    "sorted('azycd')"
   ]
  },
  {
   "cell_type": "markdown",
   "id": "6a63631a-11f3-4687-9282-06c3f363079c",
   "metadata": {},
   "source": [
    "**11/7/2024**"
   ]
  },
  {
   "cell_type": "code",
   "execution_count": null,
   "id": "c92168d0-b9cb-4e88-8f73-efea4e74f356",
   "metadata": {},
   "outputs": [],
   "source": [
    "type(<value>)\n",
    "eval(<value>)\n",
    "input(<value>)\n",
    "max(<value>)\n",
    "min(<value>)\n",
    "len()\n",
    "sum()\n",
    "sorted()\n",
    "reversed()\n"
   ]
  },
  {
   "cell_type": "code",
   "execution_count": 1,
   "id": "6259a4e7-d077-4a8d-9b97-5066b026ff3b",
   "metadata": {},
   "outputs": [
    {
     "data": {
      "text/plain": [
       "['a', 'e', 'h', 'n', 'r', 's']"
      ]
     },
     "execution_count": 1,
     "metadata": {},
     "output_type": "execute_result"
    }
   ],
   "source": [
    "#sorted\n",
    "# It will provide the values either ascending or descending\n",
    "\n",
    "sorted('nareh') #Ascennding or desending\n",
    "\n",
    "# when I run this it will give one answer\n",
    "# The function has dafault behaviour : ascending\n",
    "\n",
    "# How this default mentioned\n",
    "# we need to understand about arguments\n"
   ]
  },
  {
   "cell_type": "code",
   "execution_count": 5,
   "id": "0f594217-d0f2-4909-be90-43b71b50ce4a",
   "metadata": {},
   "outputs": [
    {
     "ename": "TypeError",
     "evalue": "sorted expected 1 argument, got 2",
     "output_type": "error",
     "traceback": [
      "\u001b[1;31m---------------------------------------------------------------------------\u001b[0m",
      "\u001b[1;31mTypeError\u001b[0m                                 Traceback (most recent call last)",
      "Cell \u001b[1;32mIn[5], line 1\u001b[0m\n\u001b[1;32m----> 1\u001b[0m \u001b[38;5;28msorted\u001b[39m(\u001b[38;5;124m'\u001b[39m\u001b[38;5;124mnaresh\u001b[39m\u001b[38;5;124m'\u001b[39m,\u001b[38;5;28;01mTrue\u001b[39;00m)\n",
      "\u001b[1;31mTypeError\u001b[0m: sorted expected 1 argument, got 2"
     ]
    }
   ],
   "source": [
    "sorted('naresh',True)\n",
    "\n",
    "# iterable\n",
    "# key\n",
    "# reverse"
   ]
  },
  {
   "cell_type": "code",
   "execution_count": 7,
   "id": "ac4c91d2-9ee1-4410-a036-a20a0ce3aed6",
   "metadata": {},
   "outputs": [
    {
     "ename": "NameError",
     "evalue": "name 'averge' is not defined",
     "output_type": "error",
     "traceback": [
      "\u001b[1;31m---------------------------------------------------------------------------\u001b[0m",
      "\u001b[1;31mNameError\u001b[0m                                 Traceback (most recent call last)",
      "Cell \u001b[1;32mIn[7], line 4\u001b[0m\n\u001b[0;32m      2\u001b[0m     avg\u001b[38;5;241m=\u001b[39m((a\u001b[38;5;241m+\u001b[39mb\u001b[38;5;241m+\u001b[39mc)\u001b[38;5;241m/\u001b[39m\u001b[38;5;241m3\u001b[39m)\n\u001b[0;32m      3\u001b[0m     \u001b[38;5;28mprint\u001b[39m(avg)\n\u001b[1;32m----> 4\u001b[0m averge(\u001b[38;5;241m10\u001b[39m,\u001b[38;5;241m20\u001b[39m)\n",
      "\u001b[1;31mNameError\u001b[0m: name 'averge' is not defined"
     ]
    }
   ],
   "source": [
    "def average(a,b,c):\n",
    "    avg=((a+b+c)/3)\n",
    "    print(avg)\n",
    "averge(10,20)\n"
   ]
  },
  {
   "cell_type": "code",
   "execution_count": 6,
   "id": "251b0f2d-e3d3-4179-ac15-f6860266c819",
   "metadata": {},
   "outputs": [
    {
     "data": {
      "text/plain": [
       "['s', 'r', 'n', 'h', 'e', 'a']"
      ]
     },
     "execution_count": 6,
     "metadata": {},
     "output_type": "execute_result"
    }
   ],
   "source": [
    "sorted('naresh',reverse=True)"
   ]
  },
  {
   "cell_type": "code",
   "execution_count": 8,
   "id": "6fb631e2-e9aa-4778-88e6-646fe1db75fb",
   "metadata": {},
   "outputs": [
    {
     "name": "stdout",
     "output_type": "stream",
     "text": [
      "h\n",
      "s\n",
      "e\n",
      "r\n",
      "a\n",
      "n\n"
     ]
    }
   ],
   "source": [
    "for i in reversed('naresh'):\n",
    "    print(i)"
   ]
  },
  {
   "cell_type": "code",
   "execution_count": 9,
   "id": "7d351268-09bc-4a0b-b654-4a9df45123ea",
   "metadata": {},
   "outputs": [
    {
     "data": {
      "text/plain": [
       "[1, 2, 10, 20, 30]"
      ]
     },
     "execution_count": 9,
     "metadata": {},
     "output_type": "execute_result"
    }
   ],
   "source": [
    "sorted([1,10,20,2,30])\n",
    "\n",
    "# 1,2,10,20,30( ascneding order - default one)\n",
    "# 30,20,10,2,1"
   ]
  },
  {
   "cell_type": "markdown",
   "id": "bf554089-55e3-4aff-85d9-d9adffa83da8",
   "metadata": {},
   "source": [
    "**in**"
   ]
  },
  {
   "cell_type": "code",
   "execution_count": 10,
   "id": "7eea2a38-26e7-4b5a-a4f3-93840e15d6bf",
   "metadata": {},
   "outputs": [
    {
     "data": {
      "text/plain": [
       "True"
      ]
     },
     "execution_count": 10,
     "metadata": {},
     "output_type": "execute_result"
    }
   ],
   "source": [
    "str1='naresh'\n",
    "'n' in str1"
   ]
  },
  {
   "cell_type": "code",
   "execution_count": 11,
   "id": "97132e01-738f-400d-8123-31fed86c3a38",
   "metadata": {},
   "outputs": [
    {
     "data": {
      "text/plain": [
       "False"
      ]
     },
     "execution_count": 11,
     "metadata": {},
     "output_type": "execute_result"
    }
   ],
   "source": [
    "'n' not in str1"
   ]
  },
  {
   "cell_type": "code",
   "execution_count": 12,
   "id": "843c3289-78f6-4ff0-b7d3-ed5fd0fab83a",
   "metadata": {},
   "outputs": [
    {
     "data": {
      "text/plain": [
       "False"
      ]
     },
     "execution_count": 12,
     "metadata": {},
     "output_type": "execute_result"
    }
   ],
   "source": [
    "'nn' in str1"
   ]
  },
  {
   "cell_type": "code",
   "execution_count": 13,
   "id": "c7532114-64d7-4b79-a39d-03dbf47e5b5e",
   "metadata": {},
   "outputs": [
    {
     "name": "stdout",
     "output_type": "stream",
     "text": [
      "n\n",
      "a\n",
      "r\n",
      "e\n",
      "s\n",
      "h\n"
     ]
    }
   ],
   "source": [
    "for i in str1:\n",
    "    print(i)"
   ]
  },
  {
   "cell_type": "markdown",
   "id": "1ed7ce3a-48b9-4251-a02a-513b0b225bc1",
   "metadata": {},
   "source": [
    "**Note**\n",
    "\n",
    "- In operator directly access the letters\n"
   ]
  },
  {
   "cell_type": "code",
   "execution_count": null,
   "id": "d5177c19-9cba-4f9b-8776-a19952ee5150",
   "metadata": {},
   "outputs": [],
   "source": [
    "# Wap ask the user count how many 'a' are present in a given string \n",
    "# str1='hai naresh how are you'\n",
    "\n",
    "# idea\n",
    "# step-1 : count=0\n",
    "# step-2 : using for loop in operator iterate through given string\n",
    "# step-3 : apply using if condition,whenever the letter equal to 'a'\n",
    "# step-4 : count=count+1  "
   ]
  },
  {
   "cell_type": "code",
   "execution_count": 16,
   "id": "5d5a1c55-eff2-467f-8631-64bc3675f4b5",
   "metadata": {},
   "outputs": [
    {
     "name": "stdout",
     "output_type": "stream",
     "text": [
      "The number of 'a' in given string :3\n"
     ]
    }
   ],
   "source": [
    "str1='hai naresh how are you'\n",
    "count=0\n",
    "for i in str1:\n",
    "    if i == 'a':\n",
    "        count+=1\n",
    "print(f\"The number of 'a' in given string :{count}\")\n",
    "\n",
    "# step-1: i='h'  if 'h'=='a'    False\n",
    "# step-2: i='a'  if 'a'=='a' T   count=0+==1\n",
    "# step-3: i='i'  if 'i'=='a' F  count=1\n",
    "#\n",
    "\n",
    "#step-3"
   ]
  },
  {
   "cell_type": "code",
   "execution_count": null,
   "id": "ec011e2a-32ec-4440-b98d-c3467634e2c4",
   "metadata": {},
   "outputs": [],
   "source": [
    "#wap ask the user how many vowels are there in the given string\n",
    "# str1='hai naresh how are you'\n",
    "#ans=9"
   ]
  },
  {
   "cell_type": "code",
   "execution_count": 19,
   "id": "f6feb06c-3121-40f4-922c-a456e2fb9b1f",
   "metadata": {},
   "outputs": [
    {
     "name": "stdout",
     "output_type": "stream",
     "text": [
      "No. vowels are :9\n"
     ]
    }
   ],
   "source": [
    "str1='hai naresh how are you'\n",
    "count=0\n",
    "vowel='aeiou'\n",
    "for i in str1:\n",
    "    if i in vowel:    # if i in 'aeiou':\n",
    "        count+=1\n",
    "print(f\"No. vowels are :{count}\")\n",
    "\n",
    "\n",
    "# step-1: i=='h' if 'h' in aeiou False\n",
    "# step-2: i=='a' if 'a' in aeiou True"
   ]
  },
  {
   "cell_type": "code",
   "execution_count": null,
   "id": "a71d5f7a-676f-4f68-b623-6279374296d7",
   "metadata": {},
   "outputs": [],
   "source": [
    "#Q3) home work qn\n",
    "# str1='hai naresh how are you'\n",
    "# Repeated vowels are there\n",
    "# We donot want repeated vowels\n",
    "# Count the vowels avoid the repeatition: Unique vowels\n",
    "\n",
    "# step -1: Count=0\n",
    "# step-2: Take one more string : ex:str2=''\n",
    "# step-3: using for loop in operator iterate through given string\n",
    "# step-4: condition-1  That letter should not available in s2\n",
    "# step-5:        condirtion-2: vowel cjheck condition\n",
    "# step-6:                   count+=1\n",
    "# step-6:                 update s2=s2+i"
   ]
  },
  {
   "cell_type": "code",
   "execution_count": 21,
   "id": "0888b373-fecf-4c1d-8b81-6a41230e91b2",
   "metadata": {},
   "outputs": [
    {
     "name": "stdout",
     "output_type": "stream",
     "text": [
      "aieou\n",
      "5\n"
     ]
    }
   ],
   "source": [
    "str1='hai naresh how are you'\n",
    "str2=''\n",
    "count=0\n",
    "for i in str1:\n",
    "    if i in 'aeiou':\n",
    "        if i not in str2:\n",
    "            str2+=i\n",
    "            count+=1\n",
    "print(str2)\n",
    "print(count)\n",
    "            "
   ]
  },
  {
   "cell_type": "markdown",
   "id": "ff923f37-d400-4fd7-8695-8e36973c66be",
   "metadata": {},
   "source": [
    "**How to update empty strings**"
   ]
  },
  {
   "cell_type": "code",
   "execution_count": 22,
   "id": "6499a3e1-f39f-4dc5-b54f-8e0c03071912",
   "metadata": {},
   "outputs": [
    {
     "data": {
      "text/plain": [
       "'python'"
      ]
     },
     "execution_count": 22,
     "metadata": {},
     "output_type": "execute_result"
    }
   ],
   "source": [
    "s1='python'\n",
    "s2=''\n",
    "\n",
    "for i in s1:\n",
    "    s2=s2+i    #Concatenation\n",
    "\n",
    "s2"
   ]
  },
  {
   "cell_type": "markdown",
   "id": "d3649b46-b064-4bfd-b393-24fda4b1f156",
   "metadata": {},
   "source": [
    "**Concatenation**"
   ]
  },
  {
   "cell_type": "code",
   "execution_count": 27,
   "id": "26c89dc0-7cab-4f6b-a93b-b99265f426bf",
   "metadata": {},
   "outputs": [
    {
     "data": {
      "text/plain": [
       "'Hellobye'"
      ]
     },
     "execution_count": 27,
     "metadata": {},
     "output_type": "execute_result"
    }
   ],
   "source": [
    "s1='Hello'\n",
    "s2='bye'\n",
    "s1+s2\n"
   ]
  },
  {
   "cell_type": "code",
   "execution_count": 29,
   "id": "96324ebf-81fd-4e81-9d86-bd3e7c2848dd",
   "metadata": {},
   "outputs": [
    {
     "data": {
      "text/plain": [
       "'Hello bye'"
      ]
     },
     "execution_count": 29,
     "metadata": {},
     "output_type": "execute_result"
    }
   ],
   "source": [
    "s1='Hello'\n",
    "s2='bye'\n",
    "s1+' '+s2"
   ]
  },
  {
   "cell_type": "code",
   "execution_count": 30,
   "id": "fe7f0694-b30b-42b7-8c9a-f727fff6d70e",
   "metadata": {},
   "outputs": [
    {
     "data": {
      "text/plain": [
       "'Hello bye'"
      ]
     },
     "execution_count": 30,
     "metadata": {},
     "output_type": "execute_result"
    }
   ],
   "source": [
    "s1='Hello'\n",
    "s2=' bye'\n",
    "s1+s2"
   ]
  },
  {
   "cell_type": "code",
   "execution_count": 31,
   "id": "9ae8dba8-b472-4b6c-b65b-a6642b1f26e9",
   "metadata": {},
   "outputs": [
    {
     "data": {
      "text/plain": [
       "'Hello bye'"
      ]
     },
     "execution_count": 31,
     "metadata": {},
     "output_type": "execute_result"
    }
   ],
   "source": [
    "s1='Hello'\n",
    "s2=' '\n",
    "s3='bye'\n",
    "s1+s2+s3"
   ]
  },
  {
   "cell_type": "code",
   "execution_count": 33,
   "id": "1d12147f-10be-48a3-9658-75de591584c3",
   "metadata": {},
   "outputs": [
    {
     "name": "stdout",
     "output_type": "stream",
     "text": [
      "Hello bye\n"
     ]
    }
   ],
   "source": [
    "s1='Hello'\n",
    "s2='bye'\n",
    "s3=' '\n",
    "s4=s1+s3+s2\n",
    "print(s4)"
   ]
  },
  {
   "cell_type": "code",
   "execution_count": 35,
   "id": "fd3dd8ff-7ec5-4ed1-ac4f-3f3f443dd05c",
   "metadata": {},
   "outputs": [
    {
     "ename": "TypeError",
     "evalue": "can't multiply sequence by non-int of type 'str'",
     "output_type": "error",
     "traceback": [
      "\u001b[1;31m---------------------------------------------------------------------------\u001b[0m",
      "\u001b[1;31mTypeError\u001b[0m                                 Traceback (most recent call last)",
      "Cell \u001b[1;32mIn[35], line 3\u001b[0m\n\u001b[0;32m      1\u001b[0m s1\u001b[38;5;241m=\u001b[39m\u001b[38;5;124m'\u001b[39m\u001b[38;5;124mHello\u001b[39m\u001b[38;5;124m'\u001b[39m\n\u001b[0;32m      2\u001b[0m s2\u001b[38;5;241m=\u001b[39m\u001b[38;5;124m'\u001b[39m\u001b[38;5;124mbye\u001b[39m\u001b[38;5;124m'\u001b[39m\n\u001b[1;32m----> 3\u001b[0m s1\u001b[38;5;241m*\u001b[39ms2\n\u001b[0;32m      4\u001b[0m s1\u001b[38;5;241m/\u001b[39ms2\n\u001b[0;32m      5\u001b[0m s1\u001b[38;5;241m-\u001b[39ms2\n",
      "\u001b[1;31mTypeError\u001b[0m: can't multiply sequence by non-int of type 'str'"
     ]
    }
   ],
   "source": [
    "s1='Hello'\n",
    "s2='bye'\n",
    "print(s1*s2)\n",
    "s1/s2\n",
    "s1-s2"
   ]
  },
  {
   "cell_type": "code",
   "execution_count": 36,
   "id": "6c316d47-5131-4110-ba98-2aaff6ab4b48",
   "metadata": {},
   "outputs": [
    {
     "ename": "TypeError",
     "evalue": "unsupported operand type(s) for -: 'str' and 'str'",
     "output_type": "error",
     "traceback": [
      "\u001b[1;31m---------------------------------------------------------------------------\u001b[0m",
      "\u001b[1;31mTypeError\u001b[0m                                 Traceback (most recent call last)",
      "Cell \u001b[1;32mIn[36], line 3\u001b[0m\n\u001b[0;32m      1\u001b[0m s1\u001b[38;5;241m=\u001b[39m\u001b[38;5;124m'\u001b[39m\u001b[38;5;124mHello\u001b[39m\u001b[38;5;124m'\u001b[39m\n\u001b[0;32m      2\u001b[0m s2\u001b[38;5;241m=\u001b[39m\u001b[38;5;124m'\u001b[39m\u001b[38;5;124mbye\u001b[39m\u001b[38;5;124m'\u001b[39m\n\u001b[1;32m----> 3\u001b[0m s1\u001b[38;5;241m-\u001b[39ms2\n",
      "\u001b[1;31mTypeError\u001b[0m: unsupported operand type(s) for -: 'str' and 'str'"
     ]
    }
   ],
   "source": [
    "s1='Hello'\n",
    "s2='bye'\n",
    "s1-s2"
   ]
  },
  {
   "cell_type": "code",
   "execution_count": 37,
   "id": "134e422f-1125-44c2-b768-51cad0cd50df",
   "metadata": {},
   "outputs": [
    {
     "ename": "TypeError",
     "evalue": "unsupported operand type(s) for /: 'str' and 'str'",
     "output_type": "error",
     "traceback": [
      "\u001b[1;31m---------------------------------------------------------------------------\u001b[0m",
      "\u001b[1;31mTypeError\u001b[0m                                 Traceback (most recent call last)",
      "Cell \u001b[1;32mIn[37], line 3\u001b[0m\n\u001b[0;32m      1\u001b[0m s1\u001b[38;5;241m=\u001b[39m\u001b[38;5;124m'\u001b[39m\u001b[38;5;124mHello\u001b[39m\u001b[38;5;124m'\u001b[39m\n\u001b[0;32m      2\u001b[0m s2\u001b[38;5;241m=\u001b[39m\u001b[38;5;124m'\u001b[39m\u001b[38;5;124mbye\u001b[39m\u001b[38;5;124m'\u001b[39m\n\u001b[1;32m----> 3\u001b[0m s1\u001b[38;5;241m/\u001b[39ms2\n",
      "\u001b[1;31mTypeError\u001b[0m: unsupported operand type(s) for /: 'str' and 'str'"
     ]
    }
   ],
   "source": [
    "s1='Hello'\n",
    "s2='bye'\n",
    "s1/s2"
   ]
  },
  {
   "cell_type": "code",
   "execution_count": null,
   "id": "1737e26a-8d29-4ca4-8463-ff0a5e77875f",
   "metadata": {},
   "outputs": [],
   "source": [
    "#s1-s2: can't multiply sequence by non-int of type 'str'\n",
    "\n",
    "# s1-s2 : unsupported operand type(s) for -: 'str' and 'str'\n",
    "\n",
    "#s1/s2:  unsupported operand type(s) for /: 'str' and 'str'"
   ]
  },
  {
   "cell_type": "code",
   "execution_count": 38,
   "id": "dc41a756-60da-4929-9877-34ba79e82588",
   "metadata": {},
   "outputs": [
    {
     "data": {
      "text/plain": [
       "'HelloHello'"
      ]
     },
     "execution_count": 38,
     "metadata": {},
     "output_type": "execute_result"
    }
   ],
   "source": [
    "s1='Hello'\n",
    "s2=2\n",
    "s1*s2"
   ]
  },
  {
   "cell_type": "code",
   "execution_count": null,
   "id": "be24142e-ec4a-4d88-b060-7c30179cd105",
   "metadata": {},
   "outputs": [],
   "source": [
    "s1+s1 ===> s1*2"
   ]
  },
  {
   "cell_type": "markdown",
   "id": "eafd6f35-f8d9-4d2d-abfb-566e90ee6382",
   "metadata": {},
   "source": [
    "**Index**\n",
    "\n",
    "- Index meaning a number attached to a letter\n",
    "\n",
    "- In python index starts with zero\n",
    "\n",
    "- We have two directions\n",
    "\n",
    "    - Positive direction\n",
    "\n",
    "        - Positive numbers starts with zero\n",
    " \n",
    "     - Negative direction\n",
    " \n",
    "         - Negative numbers starts with -1 ,applicable to last letter"
   ]
  },
  {
   "cell_type": "code",
   "execution_count": null,
   "id": "e4a8ec3b-b641-4f47-a5ba-450399229929",
   "metadata": {},
   "outputs": [],
   "source": [
    "s1='python'\n",
    "\n",
    "\n",
    "-6 -5 -4  -3 -2 -1 ======> negative\n",
    " p   y  t  h  o  n\n",
    " 0   1  2  3  4  5  ======> positiv e"
   ]
  },
  {
   "cell_type": "code",
   "execution_count": 40,
   "id": "5a1663f4-e2eb-47c4-b799-64f8ec4e5893",
   "metadata": {},
   "outputs": [
    {
     "data": {
      "text/plain": [
       "('p', 'y', 't', 'h', 'o', 'n')"
      ]
     },
     "execution_count": 40,
     "metadata": {},
     "output_type": "execute_result"
    }
   ],
   "source": [
    "# Accessing the letters\n",
    "s1='python'\n",
    "s1[0],s1[1],s1[2],s1[3],s1[4],s1[5]"
   ]
  },
  {
   "cell_type": "code",
   "execution_count": 41,
   "id": "617b2309-e13d-4918-8a05-df8edb2722ac",
   "metadata": {},
   "outputs": [
    {
     "data": {
      "text/plain": [
       "('n', 'o', 'h', 't', 'y', 'p')"
      ]
     },
     "execution_count": 41,
     "metadata": {},
     "output_type": "execute_result"
    }
   ],
   "source": [
    "s1='python'\n",
    "s1[-1],s1[-2],s1[-3],s1[-4],s1[-5],s1[-6]"
   ]
  },
  {
   "cell_type": "markdown",
   "id": "fe29e74c-7b4f-4b04-a141-71f02a806e95",
   "metadata": {},
   "source": [
    "**12th july**"
   ]
  },
  {
   "cell_type": "markdown",
   "id": "18ea37db-740d-46f5-b3b4-86bee3d5f983",
   "metadata": {},
   "source": [
    "**mutable-immutable**"
   ]
  },
  {
   "cell_type": "markdown",
   "id": "d7895f80-62b6-47c5-8f81-c21c39d65c2f",
   "metadata": {},
   "source": [
    "- mutable can change\n",
    "\n",
    "  - we can change using indexing\n",
    "\n",
    "- immutable can not change\n",
    "\n",
    "  - we can not change using indexing"
   ]
  },
  {
   "cell_type": "code",
   "execution_count": 11,
   "id": "63f6aa8a-93a7-47ab-8b0f-d7e814b02c65",
   "metadata": {},
   "outputs": [
    {
     "ename": "TypeError",
     "evalue": "'str' object does not support item assignment",
     "output_type": "error",
     "traceback": [
      "\u001b[1;31m---------------------------------------------------------------------------\u001b[0m",
      "\u001b[1;31mTypeError\u001b[0m                                 Traceback (most recent call last)",
      "Cell \u001b[1;32mIn[11], line 5\u001b[0m\n\u001b[0;32m      1\u001b[0m s\u001b[38;5;241m=\u001b[39m\u001b[38;5;124m'\u001b[39m\u001b[38;5;124mwelcome\u001b[39m\u001b[38;5;124m'\u001b[39m   \u001b[38;5;66;03m#welcome\u001b[39;00m\n\u001b[0;32m      2\u001b[0m \u001b[38;5;66;03m# I want to replace 'l' with 'L'\u001b[39;00m\n\u001b[0;32m      3\u001b[0m \u001b[38;5;66;03m#Possible\u001b[39;00m\n\u001b[0;32m      4\u001b[0m \u001b[38;5;66;03m#Not possible\u001b[39;00m\n\u001b[1;32m----> 5\u001b[0m s[\u001b[38;5;241m2\u001b[39m]\u001b[38;5;241m=\u001b[39m\u001b[38;5;124m'\u001b[39m\u001b[38;5;124mL\u001b[39m\u001b[38;5;124m'\u001b[39m\n",
      "\u001b[1;31mTypeError\u001b[0m: 'str' object does not support item assignment"
     ]
    }
   ],
   "source": [
    "s='welcome'   #welcome\n",
    "# I want to replace 'l' with 'L'\n",
    "#Possible\n",
    "#Not possible\n",
    "s[2]='L'"
   ]
  },
  {
   "cell_type": "markdown",
   "id": "9ada8b4a-4868-48d9-8152-e89e98797894",
   "metadata": {},
   "source": [
    "**Strings are immutable**"
   ]
  },
  {
   "cell_type": "code",
   "execution_count": 12,
   "id": "a3527a50-c2a7-4007-9abc-679ae11c153f",
   "metadata": {},
   "outputs": [
    {
     "data": {
      "text/plain": [
       "[1, 200, 3, 4]"
      ]
     },
     "execution_count": 12,
     "metadata": {},
     "output_type": "execute_result"
    }
   ],
   "source": [
    "l=[1,2,3,4]       #2=200\n",
    "l[1]=200\n",
    "l"
   ]
  },
  {
   "cell_type": "code",
   "execution_count": null,
   "id": "c117b1d0-b18d-4695-87b5-f337d126029e",
   "metadata": {},
   "outputs": [],
   "source": [
    "s='welcome'\n",
    "s[2]='L'\n",
    "#############################################\n",
    "l=[1,2,3,4]       #2=200\n",
    "l[1]=200\n",
    "l"
   ]
  },
  {
   "cell_type": "markdown",
   "id": "90aaef3b-a51f-4de6-b854-8a9855a2b473",
   "metadata": {},
   "source": [
    "- range belongs to which family\n",
    "\n",
    "  - Math family\n",
    "\n",
    "- inside range bracket what we need to provide\n",
    "\n",
    "    - number\n",
    "\n",
    "- How many numbers we need to provide\n",
    "\n",
    "   - Number of letter: len(string)\n",
    "\n",
    "- How to access the letter using number\n",
    "\n",
    "  - by using index"
   ]
  },
  {
   "cell_type": "code",
   "execution_count": null,
   "id": "b6fa72bd-8718-4cde-bd96-1cac2113d19e",
   "metadata": {},
   "outputs": [],
   "source": []
  },
  {
   "cell_type": "code",
   "execution_count": 1,
   "id": "03d8e694-dcbc-4415-ad50-dd9ced9218c0",
   "metadata": {},
   "outputs": [
    {
     "name": "stdout",
     "output_type": "stream",
     "text": [
      "w\n",
      "e\n",
      "l\n",
      "c\n",
      "o\n",
      "m\n",
      "e\n"
     ]
    }
   ],
   "source": [
    "s='welcome'\n",
    "for i in range(7):\n",
    "    print(s[i])"
   ]
  },
  {
   "cell_type": "code",
   "execution_count": 2,
   "id": "7173ec69-3246-4e0d-8ffd-2fd276554c4e",
   "metadata": {},
   "outputs": [
    {
     "name": "stdout",
     "output_type": "stream",
     "text": [
      "w\n",
      "e\n",
      "l\n",
      "c\n",
      "o\n",
      "m\n",
      "e\n"
     ]
    }
   ],
   "source": [
    "s='welcome'\n",
    "n=len(s)\n",
    "for i in range(n):\n",
    "    print(s[i])"
   ]
  },
  {
   "cell_type": "markdown",
   "id": "2dd606df-bbb6-4411-b09c-78be10b07454",
   "metadata": {},
   "source": [
    "- **for-in** directly access the letter\n",
    "\n",
    "- **for-range** will access using the inedex"
   ]
  },
  {
   "cell_type": "code",
   "execution_count": 6,
   "id": "18b4ea63-d81b-483a-8dfe-8db577df43f4",
   "metadata": {},
   "outputs": [
    {
     "name": "stdout",
     "output_type": "stream",
     "text": [
      "H\n",
      "e\n",
      "m\n",
      "a\n",
      "0123"
     ]
    }
   ],
   "source": [
    "s=\"Hema\"\n",
    "n=len(s)\n",
    "for i in s:\n",
    "    print(i)\n",
    "for i in range(n):\n",
    "    print(i,end='')"
   ]
  },
  {
   "cell_type": "code",
   "execution_count": null,
   "id": "df33c5d2-1eac-4246-afd3-4e0a2bd4ffb7",
   "metadata": {},
   "outputs": [],
   "source": [
    "# Q5) wap ask the user iterate using a string\n",
    "#string=welcome\n",
    "# print the positive index of w is 0\n",
    "# print the positive index of e is 1\n"
   ]
  },
  {
   "cell_type": "code",
   "execution_count": 8,
   "id": "3a079650-75ec-4bbc-8097-2a53d89605dc",
   "metadata": {},
   "outputs": [
    {
     "name": "stdout",
     "output_type": "stream",
     "text": [
      "The positive indexof w is 0\n",
      "The positive indexof e is 1\n",
      "The positive indexof l is 2\n",
      "The positive indexof c is 3\n",
      "The positive indexof o is 4\n",
      "The positive indexof m is 5\n",
      "The positive indexof e is 6\n"
     ]
    }
   ],
   "source": [
    "str1=\"welcome\"\n",
    "n=len(str1)\n",
    "for i in range(n):\n",
    "    print(f\"The positive indexof {str1[i]} is {i}\")"
   ]
  },
  {
   "cell_type": "code",
   "execution_count": 19,
   "id": "7e756cd5-f1a1-45c9-b7a3-be6dc402a86d",
   "metadata": {},
   "outputs": [
    {
     "name": "stdout",
     "output_type": "stream",
     "text": [
      "The positive indexof w is -7\n",
      "The positive indexof e is -6\n",
      "The positive indexof l is -5\n",
      "The positive indexof c is -4\n",
      "The positive indexof o is -3\n",
      "The positive indexof m is -2\n",
      "The positive indexof e is -1\n"
     ]
    }
   ],
   "source": [
    "str1=\"welcome\"\n",
    "n=len(str1)\n",
    "for i in range(-n,0):\n",
    "    print(f\"The positive indexof {str1[i]} is {i}\")"
   ]
  },
  {
   "cell_type": "code",
   "execution_count": 20,
   "id": "d1a25b96-31bb-4ce3-a008-e84c581f71ed",
   "metadata": {},
   "outputs": [
    {
     "name": "stdout",
     "output_type": "stream",
     "text": [
      "-7\n",
      "-6\n",
      "-5\n",
      "-4\n",
      "-3\n",
      "-2\n",
      "-1\n"
     ]
    }
   ],
   "source": [
    "#0 -7  == -7\n",
    "# 1-7=== -6\n",
    "# 2-7 == -5\n",
    "# 3-7 === -4\n",
    "# 4-7 === -3\n",
    "\n",
    "str1=\"welcome\"\n",
    "n=len(str1)\n",
    "for i in range(n):\n",
    "    print(i-n)"
   ]
  },
  {
   "cell_type": "code",
   "execution_count": 23,
   "id": "6df38271-928c-40d0-a44d-21ee1f396bb5",
   "metadata": {},
   "outputs": [
    {
     "name": "stdout",
     "output_type": "stream",
     "text": [
      "The positive index of 0 and the negative index -7 for w \n",
      "The positive index of 1 and the negative index -6 for e \n",
      "The positive index of 2 and the negative index -5 for l \n",
      "The positive index of 3 and the negative index -4 for c \n",
      "The positive index of 4 and the negative index -3 for o \n",
      "The positive index of 5 and the negative index -2 for m \n",
      "The positive index of 6 and the negative index -1 for e \n"
     ]
    }
   ],
   "source": [
    "str1=\"welcome\"\n",
    "n=len(str1)\n",
    "for i in range(n):\n",
    "    print(f\"The positive index of {i} and the negative index {i-n} for {str1[i]} \")"
   ]
  },
  {
   "cell_type": "code",
   "execution_count": null,
   "id": "bfaa3ab6-4950-4ab1-ad7c-5d4ee2eabd60",
   "metadata": {},
   "outputs": [],
   "source": [
    "#Q8) wap ask the user get the index of each 'a' in a given string \n",
    "# s= \"Hai how are you I am good\"\n"
   ]
  },
  {
   "cell_type": "code",
   "execution_count": 30,
   "id": "bbdf2458-16c8-409f-bf91-845927bf7fea",
   "metadata": {},
   "outputs": [
    {
     "name": "stdout",
     "output_type": "stream",
     "text": [
      "'a' is present at\n",
      "1 8 18 "
     ]
    }
   ],
   "source": [
    "s= \"Hai how are you I am good\"\n",
    "print(\"'a' is present at\")\n",
    "for i in  range(len(s)):\n",
    "    if s[i]=='a':\n",
    "       print(f\"{i}\",end=' ')"
   ]
  },
  {
   "cell_type": "code",
   "execution_count": 32,
   "id": "14a42f59-8a05-4ebe-90cd-16e192626b60",
   "metadata": {},
   "outputs": [
    {
     "name": "stdout",
     "output_type": "stream",
     "text": [
      "The no. of 'a's in 'Hai how are you I am good' are 3\n"
     ]
    }
   ],
   "source": [
    "s= \"Hai how are you I am good\"\n",
    "count=0\n",
    "for i in  range(len(s)):\n",
    "    if s[i]=='a':\n",
    "       count+=1\n",
    "print(f\"The no. of 'a's in '{s}' are {count}\")"
   ]
  },
  {
   "cell_type": "code",
   "execution_count": 33,
   "id": "cf7478c6-06e5-43b6-a0b4-57d01c066095",
   "metadata": {},
   "outputs": [
    {
     "name": "stdout",
     "output_type": "stream",
     "text": [
      "The sum of all index numbers of 'a' is 27\n"
     ]
    }
   ],
   "source": [
    "s= \"Hai how are you I am good\"\n",
    "summ=0\n",
    "for i in  range(len(s)):\n",
    "    if s[i]=='a':\n",
    "       summ=summ+i\n",
    "print(f\"The sum of all index numbers of 'a' is {summ}\")"
   ]
  },
  {
   "cell_type": "code",
   "execution_count": 38,
   "id": "d4869f94-c7ee-4c5a-a63c-8a6a63f2854b",
   "metadata": {},
   "outputs": [
    {
     "name": "stdout",
     "output_type": "stream",
     "text": [
      "The no. of vowels are 11\n",
      "The vowels present in the given string is 'aioaeouiaoo'\n"
     ]
    }
   ],
   "source": [
    "s= \"Hai how are you i am good\"\n",
    "s1=''\n",
    "count=0\n",
    "for i in range(len(s)):\n",
    "    if s[i] in 'aeiou':\n",
    "        s1=s1+s[i]\n",
    "        count+=1\n",
    "print(f\"The no. of vowels are {count}\")\n",
    "print(f\"The vowels present in the given string is '{s1}'\")"
   ]
  },
  {
   "cell_type": "code",
   "execution_count": 42,
   "id": "3ae01607-38b6-4d36-a948-ee80cf6e618c",
   "metadata": {},
   "outputs": [
    {
     "name": "stdout",
     "output_type": "stream",
     "text": [
      "a i o a e o u i a o o The no. of vowels are 11\n"
     ]
    }
   ],
   "source": [
    "s= \"Hai how are you i am good\"\n",
    "count=0\n",
    "for i in range(len(s)):\n",
    "    if s[i] in 'aeiou':\n",
    "        print(s[i],end=' ')\n",
    "        count+=1\n",
    "print(f\"\\nThe no. of vowels are {count}\")"
   ]
  },
  {
   "cell_type": "code",
   "execution_count": 46,
   "id": "7aa39e97-8107-4425-a5d3-7b271a1d44f4",
   "metadata": {},
   "outputs": [
    {
     "name": "stdout",
     "output_type": "stream",
     "text": [
      "a i o e u \n",
      "The no. of vowels are 5\n",
      "The vowels present in the given string is 'aioeu'\n"
     ]
    }
   ],
   "source": [
    "s= \"Hai how are you i am good\"\n",
    "s1=''\n",
    "count=0\n",
    "for i in range(len(s)):\n",
    "    if s[i] in 'aeiou': # is it a vowel or not??\n",
    "        if s[i] not in s1:     # if it is not a in s1 then add it to s1\n",
    "            print(s[i],end=' ')\n",
    "            s1=s1+s[i]\n",
    "            count+=1\n",
    "print(f\"\\nThe no. of vowels are {count}\")\n",
    "print(f\"The vowels present in the given string is '{s1}'\")"
   ]
  },
  {
   "cell_type": "code",
   "execution_count": 47,
   "id": "f1e8bbec-dd38-4cd2-a010-4c952eb306fd",
   "metadata": {},
   "outputs": [
    {
     "name": "stdout",
     "output_type": "stream",
     "text": [
      "a i o e u \n",
      "The no. of vowels are 5\n",
      "The vowels present in the given string is 'aioeu'\n"
     ]
    }
   ],
   "source": [
    "# updated one\n",
    "s= \"Hai how are you i am good\"\n",
    "s1=''\n",
    "count=0\n",
    "for i in range(len(s)):\n",
    "        if s[i] not in s1 and s[i] in 'aeiou':     # if it is not a in s1 then add it to s1\n",
    "            print(s[i],end=' ')\n",
    "            s1=s1+s[i]\n",
    "            count+=1\n",
    "print(f\"\\nThe no. of vowels are {count}\")\n",
    "print(f\"The vowels present in the given string is '{s1}'\")"
   ]
  },
  {
   "cell_type": "code",
   "execution_count": null,
   "id": "061f4b05-7e25-42bf-ab3f-fddcebec96ce",
   "metadata": {},
   "outputs": [],
   "source": [
    "# Q14) string1=\"ola ola ola\"\n",
    "# print no. of ola=3\n",
    "\n",
    "#Q15) string1='hello hello hello how how how how are you ?\"\n",
    "# wt is the most repeated word: how\n",
    "\n",
    "# Q16) string1='hellooooo how are u'\n",
    "# wt is the maximum length of the word : hellooooo\n",
    "# wt is the minimum length of the word : u"
   ]
  },
  {
   "cell_type": "code",
   "execution_count": 49,
   "id": "317f9d33-b629-422f-b8cd-808cc7288241",
   "metadata": {},
   "outputs": [
    {
     "data": {
      "text/plain": [
       "104"
      ]
     },
     "execution_count": 49,
     "metadata": {},
     "output_type": "execute_result"
    }
   ],
   "source": [
    "sorted('hello')\n",
    "# sort the word without using sorted method"
   ]
  },
  {
   "cell_type": "code",
   "execution_count": 65,
   "id": "aa9978b1-8881-4336-9a5e-1edc5301bf13",
   "metadata": {},
   "outputs": [
    {
     "name": "stdout",
     "output_type": "stream",
     "text": [
      "The no. of ola:3\n"
     ]
    }
   ],
   "source": [
    "string1=\"ola ola ola\"\n",
    "w1=''\n",
    "n=len(string1)\n",
    "count=0\n",
    "for i in range(n):\n",
    "    if string1[i] == ' ':\n",
    "        count=count+1\n",
    "print(f\"The no. of ola:{count+1}\")"
   ]
  },
  {
   "cell_type": "code",
   "execution_count": null,
   "id": "ece84e12-a15e-43e7-b705-4e193e4fd9e6",
   "metadata": {},
   "outputs": [],
   "source": [
    "#Q15) string1='hello hello hello how how how how are you ?\"\n",
    "# wt is the most repeated word: how"
   ]
  },
  {
   "cell_type": "code",
   "execution_count": 38,
   "id": "88bf9abd-872d-40bd-9273-fd8662a8f072",
   "metadata": {},
   "outputs": [
    {
     "name": "stdout",
     "output_type": "stream",
     "text": [
      "\n",
      "The max string is 'helloooo' with length 8\n",
      "\n",
      "The min string is 'u' with length 1\n"
     ]
    }
   ],
   "source": [
    "string1='helloooo how are u'\n",
    "s2=''\n",
    "max,min=0,len(string1)\n",
    "max_str,min_str='',''\n",
    "for i in string1:\n",
    "    if i == ' '  :\n",
    "         if max < len(s2):\n",
    "            max,max_str=len(s2),s2\n",
    "         if min > len(s2):\n",
    "            min,min_str=len(s2),s2\n",
    "         s2=''\n",
    "    else:s2=s2+i\n",
    "if len(s2) > max:\n",
    "    ax,max_str=len(s2),s2\n",
    "if min > len(s2):\n",
    "    min,min_str=len(s2),s2    \n",
    "print(f\"\\nThe max string is '{max_str}' with length {max}\")\n",
    "print(f\"\\nThe min string is '{min_str}' with length {min}\")"
   ]
  },
  {
   "cell_type": "code",
   "execution_count": 24,
   "id": "0cf49f08-ab47-4318-8c22-ea5f5b4fbedb",
   "metadata": {},
   "outputs": [],
   "source": [
    "#Q15) string1='hello hello hello how how how how are you ?\"\n",
    "# wt is the most repeated word: how"
   ]
  },
  {
   "cell_type": "code",
   "execution_count": 10,
   "id": "afc38ce5-b890-452c-ab7c-0d7639d88909",
   "metadata": {},
   "outputs": [
    {
     "name": "stdout",
     "output_type": "stream",
     "text": [
      "Semi reversed :h\n"
     ]
    },
    {
     "ename": "KeyboardInterrupt",
     "evalue": "",
     "output_type": "error",
     "traceback": [
      "\u001b[1;31m---------------------------------------------------------------------------\u001b[0m",
      "\u001b[1;31mKeyboardInterrupt\u001b[0m                         Traceback (most recent call last)",
      "Cell \u001b[1;32mIn[10], line 12\u001b[0m\n\u001b[0;32m     10\u001b[0m         \u001b[38;5;28mprint\u001b[39m(\u001b[38;5;124mf\u001b[39m\u001b[38;5;124m\"\u001b[39m\u001b[38;5;124mSemi reversed :\u001b[39m\u001b[38;5;132;01m{\u001b[39;00msemi_reversed_str\u001b[38;5;132;01m}\u001b[39;00m\u001b[38;5;124m\"\u001b[39m)\n\u001b[0;32m     11\u001b[0m     \u001b[38;5;28;01melse\u001b[39;00m:\n\u001b[1;32m---> 12\u001b[0m         s2\u001b[38;5;241m=\u001b[39ms2\u001b[38;5;241m+\u001b[39mi\n\u001b[0;32m     13\u001b[0m s\u001b[38;5;241m=\u001b[39ms2\n\u001b[0;32m     14\u001b[0m s2\u001b[38;5;241m=\u001b[39m\u001b[38;5;124m'\u001b[39m\u001b[38;5;124m'\u001b[39m\n",
      "\u001b[1;31mKeyboardInterrupt\u001b[0m: "
     ]
    }
   ],
   "source": [
    "s='python'\n",
    "s2,reversed_str,semi_reversed_str='','',''\n",
    "min=ord(s[0])\n",
    "n= len(s)\n",
    "while n>0:\n",
    "    for i in s:\n",
    "        if min > ord(i):\n",
    "            min=ord(i)\n",
    "            semi_reversed_str+=i\n",
    "            print(f\"Semi reversed :{semi_reversed_str}\")\n",
    "        else:\n",
    "            s2+=i\n",
    "    s=s2\n",
    "    s2=''\n",
    "    n=len(s)\n",
    "    if  n==1:\n",
    "        reversed_str+=s\n",
    "        break\n",
    "print(f\"Reversed str:{reversed_str}\")    "
   ]
  },
  {
   "cell_type": "code",
   "execution_count": 39,
   "id": "aaf2b8c7-ac6b-4841-8fce-7e96aec76994",
   "metadata": {},
   "outputs": [
    {
     "data": {
      "text/plain": [
       "(112, 121, 116, 104, 111, 110)"
      ]
     },
     "execution_count": 39,
     "metadata": {},
     "output_type": "execute_result"
    }
   ],
   "source": [
    "ord('p'),ord('y'),ord('t'),ord('h'),ord('o'),ord('n')"
   ]
  },
  {
   "cell_type": "markdown",
   "id": "5a082abd-88f9-4453-b7f3-33a2d15a6104",
   "metadata": {},
   "source": [
    "**15th july 2024**"
   ]
  },
  {
   "cell_type": "markdown",
   "id": "78e7b118-61c7-4106-9979-080ff0f31a20",
   "metadata": {},
   "source": [
    "- Slice"
   ]
  },
  {
   "cell_type": "markdown",
   "id": "fb8fbb8e-a033-4b51-b230-e5feca0a49de",
   "metadata": {},
   "source": [
    "- we can cut inti pieces\n",
    "\n",
    "- similar to range concept\n",
    "\n",
    "- start,stop,step here also"
   ]
  },
  {
   "cell_type": "code",
   "execution_count": 1,
   "id": "2578c4da-be31-43e1-ab08-fd15b7064d35",
   "metadata": {},
   "outputs": [],
   "source": [
    "str1='hai how are you'\n"
   ]
  },
  {
   "cell_type": "code",
   "execution_count": null,
   "id": "351055bc-5ffd-4105-88a8-d87fbcb2cc01",
   "metadata": {},
   "outputs": [],
   "source": [
    "-15  -14  -13  -12  -11  -10  -9  -8  -7  -6  -5  -4   -3   -2   -1\n",
    " h    a    i         h    o    w       a   r   e        y    o    u\n",
    " 0    1    2    3    4    5   6   7    8   9  10   11   12   13   14"
   ]
  },
  {
   "cell_type": "markdown",
   "id": "cf2305ca-f645-4b85-b557-d52bbb120cff",
   "metadata": {},
   "source": [
    "str1[strat:stop:step]"
   ]
  },
  {
   "cell_type": "markdown",
   "id": "f2233fd3-bb9a-482e-b5a9-79a3ef114a1f",
   "metadata": {},
   "source": [
    "$Pattern-1$\n",
    "\n",
    "**str1[start:]**\n",
    "\n",
    "- By default start value = start only\n",
    "\n",
    "- Last value nithing mentioned means it will go till =last only\n",
    "\n",
    "- step nothing mentioned means,it is a positive direction increment by 1\n"
   ]
  },
  {
   "cell_type": "code",
   "execution_count": 3,
   "id": "20731259-e726-440a-ac62-27224f9460bb",
   "metadata": {},
   "outputs": [
    {
     "data": {
      "text/plain": [
       "'ow are you'"
      ]
     },
     "execution_count": 3,
     "metadata": {},
     "output_type": "execute_result"
    }
   ],
   "source": [
    "str1='hai how are you'\n",
    "str1[5:]"
   ]
  },
  {
   "cell_type": "code",
   "execution_count": 4,
   "id": "e76f8223-3c63-41e6-be60-cd9aa89ea7fc",
   "metadata": {},
   "outputs": [
    {
     "data": {
      "text/plain": [
       "'e you'"
      ]
     },
     "execution_count": 4,
     "metadata": {},
     "output_type": "execute_result"
    }
   ],
   "source": [
    "str1[-5:]"
   ]
  },
  {
   "cell_type": "code",
   "execution_count": 5,
   "id": "f55aa919-678f-44b9-ad86-5aabddacebac",
   "metadata": {},
   "outputs": [
    {
     "data": {
      "text/plain": [
       "' are you'"
      ]
     },
     "execution_count": 5,
     "metadata": {},
     "output_type": "execute_result"
    }
   ],
   "source": [
    "str1[-8:]"
   ]
  },
  {
   "cell_type": "code",
   "execution_count": 6,
   "id": "ea293010-4fbb-47bb-8ac5-7d4882520085",
   "metadata": {},
   "outputs": [
    {
     "data": {
      "text/plain": [
       "'ai how are you'"
      ]
     },
     "execution_count": 6,
     "metadata": {},
     "output_type": "execute_result"
    }
   ],
   "source": [
    "str1[1:]\n"
   ]
  },
  {
   "cell_type": "code",
   "execution_count": 7,
   "id": "bef0cbba-fdff-467b-8aa3-bde7ccdef6fd",
   "metadata": {},
   "outputs": [
    {
     "data": {
      "text/plain": [
       "'e you'"
      ]
     },
     "execution_count": 7,
     "metadata": {},
     "output_type": "execute_result"
    }
   ],
   "source": [
    "str1[10:]\n"
   ]
  },
  {
   "cell_type": "code",
   "execution_count": 9,
   "id": "6364460f-ce68-4a48-98c0-e1a5180fcb8a",
   "metadata": {},
   "outputs": [
    {
     "data": {
      "text/plain": [
       "('ow are you', 'ow are you')"
      ]
     },
     "execution_count": 9,
     "metadata": {},
     "output_type": "execute_result"
    }
   ],
   "source": [
    "str1[5:],str1[-10:]"
   ]
  },
  {
   "cell_type": "code",
   "execution_count": 11,
   "id": "c1fe3ae5-6bf5-4005-aa61-e048d13c15b7",
   "metadata": {},
   "outputs": [
    {
     "data": {
      "text/plain": [
       "('u', 'u')"
      ]
     },
     "execution_count": 11,
     "metadata": {},
     "output_type": "execute_result"
    }
   ],
   "source": [
    "str1[14:],str1[-1:]"
   ]
  },
  {
   "cell_type": "markdown",
   "id": "1f008730-064c-4f23-88e4-cfae0c95eda3",
   "metadata": {},
   "source": [
    "$Pattern-2$\n",
    "\n",
    "**str1[strat:stop]**\n",
    "\n",
    "- start value means by default start only\n",
    "\n",
    "- step is not mentioned positive direction\n",
    "\n",
    "- last=stop-1\n"
   ]
  },
  {
   "cell_type": "code",
   "execution_count": 15,
   "id": "8e36873e-d2bf-4a09-9e32-71d20dc91861",
   "metadata": {},
   "outputs": [
    {
     "data": {
      "text/plain": [
       "'ow are yo'"
      ]
     },
     "execution_count": 15,
     "metadata": {},
     "output_type": "execute_result"
    }
   ],
   "source": [
    "#-15  -14  -13  -12  -11  -10  -9  -8  -7  -6  -5  -4   -3   -2   -1\n",
    "# h    a    i         h    o    w       a   r   e        y    o    u\n",
    "# 0    1    2    3    4    5   6   7    8   9  10   11   12   13   14\n",
    "str1[5:14]"
   ]
  },
  {
   "cell_type": "code",
   "execution_count": 18,
   "id": "bf2ee0ef-59f3-4912-a362-a279ece8b56f",
   "metadata": {},
   "outputs": [
    {
     "data": {
      "text/plain": [
       "'how are'"
      ]
     },
     "execution_count": 18,
     "metadata": {},
     "output_type": "execute_result"
    }
   ],
   "source": [
    "str1[4:-4]  # positive but diagonal\n",
    "#start=4\n",
    "#last=stop-1=-4-1=-5"
   ]
  },
  {
   "cell_type": "code",
   "execution_count": 17,
   "id": "d7435860-434e-41f1-aff6-9d09d66a351f",
   "metadata": {},
   "outputs": [
    {
     "data": {
      "text/plain": [
       "'ow are yo'"
      ]
     },
     "execution_count": 17,
     "metadata": {},
     "output_type": "execute_result"
    }
   ],
   "source": [
    "str1[-10:14]"
   ]
  },
  {
   "cell_type": "code",
   "execution_count": 20,
   "id": "b5e80b3a-1a8b-45c6-812a-247a69e12788",
   "metadata": {},
   "outputs": [
    {
     "data": {
      "text/plain": [
       "''"
      ]
     },
     "execution_count": 20,
     "metadata": {},
     "output_type": "execute_result"
    }
   ],
   "source": [
    "str1[5:-14]\n",
    "#start"
   ]
  },
  {
   "cell_type": "code",
   "execution_count": 21,
   "id": "123363e1-54a6-4dca-b263-d477dc8beef6",
   "metadata": {},
   "outputs": [
    {
     "data": {
      "text/plain": [
       "''"
      ]
     },
     "execution_count": 21,
     "metadata": {},
     "output_type": "execute_result"
    }
   ],
   "source": [
    "str1[-5:-14]"
   ]
  },
  {
   "cell_type": "code",
   "execution_count": null,
   "id": "b0585f3a-d6d7-4d3c-b00f-c8132cc40dac",
   "metadata": {},
   "outputs": [],
   "source": [
    "str1='hai how are you'\n",
    "str1[5:14], # works ==> ow are yo\n",
    "str1[-5:14], # works ==> e yo\n",
    "str1[5:-14], # not works ===> Negative side (diagonal way)\n",
    "str1[-5:-14] # Not works ====> Negative side(in straight lone)"
   ]
  },
  {
   "cell_type": "code",
   "execution_count": 22,
   "id": "da71377c-15a3-45dc-8193-67ff24ba7b00",
   "metadata": {},
   "outputs": [
    {
     "data": {
      "text/plain": [
       "'ow are you'"
      ]
     },
     "execution_count": 22,
     "metadata": {},
     "output_type": "execute_result"
    }
   ],
   "source": [
    "str1[5:500]\n"
   ]
  },
  {
   "cell_type": "markdown",
   "id": "8c4ff109-22de-4f7d-a129-2c32fe7126b1",
   "metadata": {},
   "source": [
    "**Truncate behaviour**\n",
    "\n",
    "- when ever string range is repeated , but we provided unlimited number\n",
    "\n",
    "- string will consider till the range we have\n",
    "\n",
    "- In the above example our range is only 15 letters\n",
    "\n",
    "- we provide 500, then we will truncate to till 15 letters only"
   ]
  },
  {
   "cell_type": "code",
   "execution_count": null,
   "id": "56787eb4-1b67-4699-8ae2-9cd1eca29d97",
   "metadata": {},
   "outputs": [],
   "source": [
    "#-15  -14  -13  -12  -11  -10  -9  -8  -7  -6  -5  -4   -3   -2   -1\n",
    "# h    a    i         h    o    w       a   r   e        y    o    u\n",
    "# 0    1    2    3    4    5   6   7    8   9  10   11   12   13   14"
   ]
  },
  {
   "cell_type": "code",
   "execution_count": null,
   "id": "610bd0f9-aa67-4628-b9a3-93c939ce972a",
   "metadata": {},
   "outputs": [],
   "source": [
    "str1[5:500]      # works ===> ow are you\n",
    "str1[-500:500]  # works ===> hai how are you\n",
    "str1[-1:500]   # works ===> u\n",
    "str1[500:]     # empty strings ===> ''\n",
    "str1[-500:-100] # not in our range"
   ]
  },
  {
   "cell_type": "code",
   "execution_count": 25,
   "id": "5204aeaf-6a0f-45a8-bd34-b509a7bb7178",
   "metadata": {},
   "outputs": [
    {
     "data": {
      "text/plain": [
       "('ow are you', 'hai how are you', 'u', '', '')"
      ]
     },
     "execution_count": 25,
     "metadata": {},
     "output_type": "execute_result"
    }
   ],
   "source": [
    "str1[5:500],str1[-500:500],str1[-1:500] ,str1[500:],str1[-500:-100]"
   ]
  },
  {
   "cell_type": "markdown",
   "id": "78a0f83f-f677-4b5e-b1b3-b29e328e7223",
   "metadata": {},
   "source": [
    "$Pattern-3$\n",
    "\n",
    "**str1[start:stop:step]**\n",
    "\n",
    "- Start value means start only\n",
    "\n",
    "- if step value positive \n",
    "\n",
    "   - last value=stop-1\n",
    "\n",
    "- if step value negative\n",
    "\n",
    "    - last value=stop+1"
   ]
  },
  {
   "cell_type": "code",
   "execution_count": null,
   "id": "d28b6c62-cd88-4e39-815b-ef9345b1a451",
   "metadata": {},
   "outputs": [],
   "source": [
    "str2='yeshwanth'\n",
    "\n",
    "str1[2:13:2]  #P\n",
    "str1[2:13:-2]   #NP\n",
    "str1[2:-13:2]   #NP (check)\n",
    "str1[2:13:-2]   #NP (Check)\n",
    "str1[-2:-13:-2] #NP(check)\n",
    "str1[-2:-13:2]  #NP(Check)\n",
    "str1[-2:-13:-2] #P\n",
    "str1[13:2:2]    #NP\n",
    "str1[-13:2:2]   #NP\n",
    "str1[-13:-2:2]  #P\n",
    "str1[-13:-2:-2] #NP\n",
    "str1[-13:2:-2]  #NP"
   ]
  },
  {
   "cell_type": "code",
   "execution_count": 17,
   "id": "e5dc7bf5-cc92-4754-8d29-06d2cf4049ae",
   "metadata": {},
   "outputs": [
    {
     "data": {
      "text/plain": [
       "''"
      ]
     },
     "execution_count": 17,
     "metadata": {},
     "output_type": "execute_result"
    }
   ],
   "source": [
    "#-15  -14  -13  -12  -11  -10  -9  -8  -7  -6  -5  -4   -3   -2   -1\n",
    "# h    a    i    o     h    o    w       a   r   e        y    o    u\n",
    "# 0    1    2    3    4    5   6   7    8   9  10   11   12   13   14\n",
    "str1='hai how are you'\n",
    "str1[2:-13:-2]\n"
   ]
  },
  {
   "cell_type": "code",
   "execution_count": 28,
   "id": "d0f21c68-0500-4aa7-9648-531ea31d6d71",
   "metadata": {},
   "outputs": [
    {
     "data": {
      "text/plain": [
       "('', 'ihwaey')"
      ]
     },
     "execution_count": 28,
     "metadata": {},
     "output_type": "execute_result"
    }
   ],
   "source": [
    "str1[2:-13:2],str1[-13:-2:2]"
   ]
  },
  {
   "cell_type": "code",
   "execution_count": 29,
   "id": "45421a53-60d5-46a0-991d-d08dd5fc7ac6",
   "metadata": {},
   "outputs": [
    {
     "data": {
      "text/plain": [
       "'uyeaw'"
      ]
     },
     "execution_count": 29,
     "metadata": {},
     "output_type": "execute_result"
    }
   ],
   "source": [
    "str1[:5:-2]  # start value : -1"
   ]
  },
  {
   "cell_type": "code",
   "execution_count": 32,
   "id": "b2e6028c-e958-4e7f-8492-19229525480e",
   "metadata": {},
   "outputs": [
    {
     "data": {
      "text/plain": [
       "''"
      ]
     },
     "execution_count": 32,
     "metadata": {},
     "output_type": "execute_result"
    }
   ],
   "source": [
    "str1[-13:2:2]"
   ]
  },
  {
   "cell_type": "code",
   "execution_count": null,
   "id": "49ff5549-468b-4e18-99bc-d3572504b284",
   "metadata": {},
   "outputs": [],
   "source": [
    "str1[:] # Complete String\n",
    "str1[::] # Complete String\n",
    "str1[::-1]  # Reverse start value= -1\n",
    "str1[<start>:5:-2} "
   ]
  },
  {
   "cell_type": "markdown",
   "id": "30efa619-4a9f-4f1b-bf8b-775c7ca2cb75",
   "metadata": {},
   "source": [
    "**Methods**\n",
    "\n",
    "- String lists tuple dictionary  every data types has its own methods\n",
    "\n",
    "- We already seen that packages has different methods\n",
    "\n",
    "- For example random package : randint method\n",
    "\n",
    "- Math package : sqrt\n",
    "\n",
    "- In the same way strings also have methods\n",
    "\n",
    "- In order to see meythods for packages \n",
    "\n",
    "   - we are importing the packages\n",
    "\n",
    "   - We are applyibg dir\n",
    "\n",
    "- In the similar way in order to see the methods of strings, we need to apply dir only"
   ]
  },
  {
   "cell_type": "code",
   "execution_count": 33,
   "id": "3fa4fcb7-b952-45a4-8719-2f9ef51355eb",
   "metadata": {},
   "outputs": [
    {
     "data": {
      "text/plain": [
       "['__add__',\n",
       " '__class__',\n",
       " '__contains__',\n",
       " '__delattr__',\n",
       " '__dir__',\n",
       " '__doc__',\n",
       " '__eq__',\n",
       " '__format__',\n",
       " '__ge__',\n",
       " '__getattribute__',\n",
       " '__getitem__',\n",
       " '__getnewargs__',\n",
       " '__getstate__',\n",
       " '__gt__',\n",
       " '__hash__',\n",
       " '__init__',\n",
       " '__init_subclass__',\n",
       " '__iter__',\n",
       " '__le__',\n",
       " '__len__',\n",
       " '__lt__',\n",
       " '__mod__',\n",
       " '__mul__',\n",
       " '__ne__',\n",
       " '__new__',\n",
       " '__reduce__',\n",
       " '__reduce_ex__',\n",
       " '__repr__',\n",
       " '__rmod__',\n",
       " '__rmul__',\n",
       " '__setattr__',\n",
       " '__sizeof__',\n",
       " '__str__',\n",
       " '__subclasshook__',\n",
       " 'capitalize',\n",
       " 'casefold',\n",
       " 'center',\n",
       " 'count',\n",
       " 'encode',\n",
       " 'endswith',\n",
       " 'expandtabs',\n",
       " 'find',\n",
       " 'format',\n",
       " 'format_map',\n",
       " 'index',\n",
       " 'isalnum',\n",
       " 'isalpha',\n",
       " 'isascii',\n",
       " 'isdecimal',\n",
       " 'isdigit',\n",
       " 'isidentifier',\n",
       " 'islower',\n",
       " 'isnumeric',\n",
       " 'isprintable',\n",
       " 'isspace',\n",
       " 'istitle',\n",
       " 'isupper',\n",
       " 'join',\n",
       " 'ljust',\n",
       " 'lower',\n",
       " 'lstrip',\n",
       " 'maketrans',\n",
       " 'partition',\n",
       " 'removeprefix',\n",
       " 'removesuffix',\n",
       " 'replace',\n",
       " 'rfind',\n",
       " 'rindex',\n",
       " 'rjust',\n",
       " 'rpartition',\n",
       " 'rsplit',\n",
       " 'rstrip',\n",
       " 'split',\n",
       " 'splitlines',\n",
       " 'startswith',\n",
       " 'strip',\n",
       " 'swapcase',\n",
       " 'title',\n",
       " 'translate',\n",
       " 'upper',\n",
       " 'zfill']"
      ]
     },
     "execution_count": 33,
     "metadata": {},
     "output_type": "execute_result"
    }
   ],
   "source": [
    "# We need to any string inside the dir to get the string methods\n",
    "dir('')  \n",
    "#dir('hai')\n",
    "#str1='apple'\n",
    "#dir(str1)"
   ]
  },
  {
   "cell_type": "markdown",
   "id": "b2a4a7c7-b21c-4632-aee8-4ba1207f8247",
   "metadata": {},
   "source": [
    "- lower\n",
    "\n",
    "- upper\n",
    "\n",
    "- capitalize\n",
    "\n",
    "- casefold\n",
    "\n",
    "- Title\n",
    "\n",
    "- center"
   ]
  },
  {
   "cell_type": "code",
   "execution_count": 34,
   "id": "09000eb1-5761-4950-b953-a11058752282",
   "metadata": {},
   "outputs": [],
   "source": [
    "str1='hai how are you'\n"
   ]
  },
  {
   "cell_type": "markdown",
   "id": "75cc9dd9-3af4-491f-a7be-5e85f52a63b0",
   "metadata": {},
   "source": [
    "**Upper**"
   ]
  },
  {
   "cell_type": "code",
   "execution_count": 35,
   "id": "17b972f3-cf28-445c-bed6-2573ab91f5a1",
   "metadata": {},
   "outputs": [
    {
     "data": {
      "text/plain": [
       "'HAI HOW ARE YOU'"
      ]
     },
     "execution_count": 35,
     "metadata": {},
     "output_type": "execute_result"
    }
   ],
   "source": [
    "str1.upper()"
   ]
  },
  {
   "cell_type": "code",
   "execution_count": 44,
   "id": "a48fd1e8-2d6e-4452-a8da-e9501b97ccce",
   "metadata": {},
   "outputs": [
    {
     "name": "stdout",
     "output_type": "stream",
     "text": [
      "Help on built-in function upper:\n",
      "\n",
      "upper() method of builtins.str instance\n",
      "    Return a copy of the string converted to uppercase.\n",
      "\n"
     ]
    }
   ],
   "source": [
    "help(str1.upper)"
   ]
  },
  {
   "cell_type": "code",
   "execution_count": 36,
   "id": "926f5fa6-b52c-4f56-85e3-ec1c3e0847d0",
   "metadata": {},
   "outputs": [
    {
     "data": {
      "text/plain": [
       "'hai how are you'"
      ]
     },
     "execution_count": 36,
     "metadata": {},
     "output_type": "execute_result"
    }
   ],
   "source": [
    "str1.lower()"
   ]
  },
  {
   "cell_type": "code",
   "execution_count": 37,
   "id": "154b600b-f66c-4a56-8ebc-76630a4a7382",
   "metadata": {},
   "outputs": [
    {
     "data": {
      "text/plain": [
       "'Hai how are you'"
      ]
     },
     "execution_count": 37,
     "metadata": {},
     "output_type": "execute_result"
    }
   ],
   "source": [
    "str1.capitalize()"
   ]
  },
  {
   "cell_type": "code",
   "execution_count": 38,
   "id": "83516d86-c73b-4b90-a37a-d95b566a240a",
   "metadata": {},
   "outputs": [
    {
     "data": {
      "text/plain": [
       "'hai how are you'"
      ]
     },
     "execution_count": 38,
     "metadata": {},
     "output_type": "execute_result"
    }
   ],
   "source": [
    "str1.casefold()"
   ]
  },
  {
   "cell_type": "code",
   "execution_count": 39,
   "id": "8ead0c2e-88ab-4e53-b55d-017841687754",
   "metadata": {},
   "outputs": [
    {
     "data": {
      "text/plain": [
       "'Hai How Are You'"
      ]
     },
     "execution_count": 39,
     "metadata": {},
     "output_type": "execute_result"
    }
   ],
   "source": [
    "str1.title()"
   ]
  },
  {
   "cell_type": "code",
   "execution_count": null,
   "id": "952557f2-4878-4d5b-8316-de41ecf52c9f",
   "metadata": {},
   "outputs": [],
   "source": [
    "# str1='hai how are you'\n",
    "# o/p=\"Hai How Are You\"\n",
    "# without using any method\n",
    "# One more level: iterate each letter apply captialize method\n",
    "# scratch: ord center"
   ]
  },
  {
   "cell_type": "code",
   "execution_count": 22,
   "id": "b19fd098-cbc9-4f6e-80e6-013348767c3d",
   "metadata": {},
   "outputs": [
    {
     "name": "stdout",
     "output_type": "stream",
     "text": [
      "A\n",
      "H\n",
      "A\n",
      "Y\n",
      "hAai Hhow Aare Yyou\n"
     ]
    }
   ],
   "source": [
    "s='hai how are you'\n",
    "n=len(s)\n",
    "s2,capitalized='',''\n",
    "for i in range(0,n):\n",
    "    if i== 0 or s[i]==' ':\n",
    "        cap=s[i+1]\n",
    "        capitalized=cap.capitalize()\n",
    "        print(capitalized)\n",
    "        s2=s2+s[i]+capitalized\n",
    "        i=i+3\n",
    "    else:\n",
    "        s2+=s[i]\n",
    "print(s2)"
   ]
  },
  {
   "cell_type": "code",
   "execution_count": 49,
   "id": "b1442bcd-3fa8-4436-a09b-31bc2f8e2bea",
   "metadata": {},
   "outputs": [
    {
     "data": {
      "text/plain": [
       "'   hai how are you   '"
      ]
     },
     "execution_count": 49,
     "metadata": {},
     "output_type": "execute_result"
    }
   ],
   "source": [
    "str1.center(21)\n"
   ]
  },
  {
   "cell_type": "markdown",
   "id": "ebcee092-ad89-4896-a601-3acfd0e79c41",
   "metadata": {},
   "source": [
    "- center has two arguments\n",
    "\n",
    "   - width\n",
    "\n",
    "   - fill char\n",
    "\n",
    "- original string already : 15 letters\n",
    "\n",
    "- we want to create a new string with 20 letters\n",
    "\n",
    "- Remaining 5 letters by default empty\n",
    "\n",
    "- We can fill with character also"
   ]
  },
  {
   "cell_type": "code",
   "execution_count": 50,
   "id": "e441227f-4214-4b39-854f-e3facd2f2ce6",
   "metadata": {},
   "outputs": [
    {
     "data": {
      "text/plain": [
       "'***hai how are you***'"
      ]
     },
     "execution_count": 50,
     "metadata": {},
     "output_type": "execute_result"
    }
   ],
   "source": [
    "# filling with characters\n",
    "str1.center(21,'*')"
   ]
  },
  {
   "cell_type": "code",
   "execution_count": 51,
   "id": "4f361d6a-5986-41cf-96ce-22e02debfc6a",
   "metadata": {},
   "outputs": [
    {
     "data": {
      "text/plain": [
       "<function str.center(width, fillchar=' ', /)>"
      ]
     },
     "execution_count": 51,
     "metadata": {},
     "output_type": "execute_result"
    }
   ],
   "source": [
    "str1.center"
   ]
  },
  {
   "cell_type": "code",
   "execution_count": 18,
   "id": "98dce98e-dce4-495f-b118-21e299e36498",
   "metadata": {},
   "outputs": [
    {
     "ename": "TypeError",
     "evalue": "center expected at least 1 argument, got 0",
     "output_type": "error",
     "traceback": [
      "\u001b[1;31m---------------------------------------------------------------------------\u001b[0m",
      "\u001b[1;31mTypeError\u001b[0m                                 Traceback (most recent call last)",
      "Cell \u001b[1;32mIn[18], line 1\u001b[0m\n\u001b[1;32m----> 1\u001b[0m str1\u001b[38;5;241m.\u001b[39mcenter()\n",
      "\u001b[1;31mTypeError\u001b[0m: center expected at least 1 argument, got 0"
     ]
    }
   ],
   "source": [
    "str1.center() # throws an error showing that center must have atleast one argument"
   ]
  },
  {
   "cell_type": "markdown",
   "id": "acf04e09-11c8-487a-a051-da73547f4cbe",
   "metadata": {},
   "source": [
    "- upper\n",
    "\n",
    "- lower\n",
    "\n",
    "- casefold\n",
    "\n",
    "- Capitalize\n",
    "\n",
    "- Center"
   ]
  },
  {
   "cell_type": "markdown",
   "id": "e79350e4-4305-409e-829a-4f546cd8568e",
   "metadata": {},
   "source": [
    "**Count**"
   ]
  },
  {
   "cell_type": "code",
   "execution_count": null,
   "id": "063d2758-d9fd-45fc-9610-8837644d91fd",
   "metadata": {},
   "outputs": [],
   "source": [
    "str1=\"hai how are you\"\n"
   ]
  },
  {
   "cell_type": "code",
   "execution_count": 19,
   "id": "a32ae08a-f558-4b67-98d6-4980c553e649",
   "metadata": {},
   "outputs": [
    {
     "name": "stdout",
     "output_type": "stream",
     "text": [
      "2\n"
     ]
    }
   ],
   "source": [
    "count=0\n",
    "for i in str1:\n",
    "    if i=='a':\n",
    "        count+=1\n",
    "print(count)"
   ]
  },
  {
   "cell_type": "code",
   "execution_count": 20,
   "id": "1a9768ca-397a-4368-9b0b-ae55038ba5eb",
   "metadata": {},
   "outputs": [
    {
     "ename": "TypeError",
     "evalue": "'int' object is not callable",
     "output_type": "error",
     "traceback": [
      "\u001b[1;31m---------------------------------------------------------------------------\u001b[0m",
      "\u001b[1;31mTypeError\u001b[0m                                 Traceback (most recent call last)",
      "Cell \u001b[1;32mIn[20], line 1\u001b[0m\n\u001b[1;32m----> 1\u001b[0m count(str1)\n",
      "\u001b[1;31mTypeError\u001b[0m: 'int' object is not callable"
     ]
    }
   ],
   "source": [
    "count(str1)  # wrong way"
   ]
  },
  {
   "cell_type": "code",
   "execution_count": 22,
   "id": "2d7fc83b-1b5a-46c6-bc98-30707c25193b",
   "metadata": {},
   "outputs": [
    {
     "data": {
      "text/plain": [
       "<function str.count>"
      ]
     },
     "execution_count": 22,
     "metadata": {},
     "output_type": "execute_result"
    }
   ],
   "source": [
    "str1.count  #it is also a function"
   ]
  },
  {
   "cell_type": "code",
   "execution_count": 23,
   "id": "388039a9-81d1-4132-b8e4-530f1230f811",
   "metadata": {},
   "outputs": [
    {
     "ename": "TypeError",
     "evalue": "count() takes at least 1 argument (0 given)",
     "output_type": "error",
     "traceback": [
      "\u001b[1;31m---------------------------------------------------------------------------\u001b[0m",
      "\u001b[1;31mTypeError\u001b[0m                                 Traceback (most recent call last)",
      "Cell \u001b[1;32mIn[23], line 1\u001b[0m\n\u001b[1;32m----> 1\u001b[0m str1\u001b[38;5;241m.\u001b[39mcount()\n",
      "\u001b[1;31mTypeError\u001b[0m: count() takes at least 1 argument (0 given)"
     ]
    }
   ],
   "source": [
    "str1.count()"
   ]
  },
  {
   "cell_type": "code",
   "execution_count": 27,
   "id": "75dcfeee-5ef4-4ee3-a7b2-050df98c8848",
   "metadata": {},
   "outputs": [
    {
     "data": {
      "text/plain": [
       "2"
      ]
     },
     "execution_count": 27,
     "metadata": {},
     "output_type": "execute_result"
    }
   ],
   "source": [
    "str1=\"hai hello how are you\"\n",
    "str1.count('a')"
   ]
  },
  {
   "cell_type": "code",
   "execution_count": 28,
   "id": "420ea2bd-252c-4ba8-819c-b45f3eb0abe3",
   "metadata": {},
   "outputs": [
    {
     "data": {
      "text/plain": [
       "3"
      ]
     },
     "execution_count": 28,
     "metadata": {},
     "output_type": "execute_result"
    }
   ],
   "source": [
    "str1='hai hai hai'\n",
    "str1.count('a')"
   ]
  },
  {
   "cell_type": "code",
   "execution_count": null,
   "id": "7a2bddee-d394-4ffd-bed3-653ecad01c9e",
   "metadata": {},
   "outputs": [],
   "source": [
    "- We want a from a specific index\n",
    "\n",
    "- We want number of 'a' between two indexes"
   ]
  },
  {
   "cell_type": "code",
   "execution_count": null,
   "id": "2b155725-e6ec-4836-8961-0d1b718f9b3c",
   "metadata": {},
   "outputs": [],
   "source": [
    "#h  a  i     h  a  i     h  a  i\n",
    "#0  1  2  3  4  5  6  7  8  9 10"
   ]
  },
  {
   "cell_type": "code",
   "execution_count": 30,
   "id": "53b62f94-5189-40fa-99c7-2c4b5f1b3616",
   "metadata": {},
   "outputs": [
    {
     "data": {
      "text/plain": [
       "2"
      ]
     },
     "execution_count": 30,
     "metadata": {},
     "output_type": "execute_result"
    }
   ],
   "source": [
    "str1.index('a') # we are searching for number of 'a' in all the string\n",
    "str1.count('a',5)\n"
   ]
  },
  {
   "cell_type": "code",
   "execution_count": 31,
   "id": "3b970a30-bdc9-4a4a-9e24-1c6cd9a91468",
   "metadata": {},
   "outputs": [
    {
     "data": {
      "text/plain": [
       "1"
      ]
     },
     "execution_count": 31,
     "metadata": {},
     "output_type": "execute_result"
    }
   ],
   "source": [
    "str1.count('a',6)\n",
    "# we are searching the number of 'a' from index =3 (including 3)"
   ]
  },
  {
   "cell_type": "code",
   "execution_count": 33,
   "id": "6bde0e71-2c05-4d1d-a349-6dab1b1d36ee",
   "metadata": {},
   "outputs": [
    {
     "data": {
      "text/plain": [
       "2"
      ]
     },
     "execution_count": 33,
     "metadata": {},
     "output_type": "execute_result"
    }
   ],
   "source": [
    "str1.count('a',3)"
   ]
  },
  {
   "cell_type": "code",
   "execution_count": 32,
   "id": "3be4022a-ad67-49bb-88bc-683c3afcb0bb",
   "metadata": {},
   "outputs": [
    {
     "data": {
      "text/plain": [
       "1"
      ]
     },
     "execution_count": 32,
     "metadata": {},
     "output_type": "execute_result"
    }
   ],
   "source": [
    "# We want number of 'a' between two indexes\n",
    "str1.count('a',5,9)"
   ]
  },
  {
   "cell_type": "code",
   "execution_count": 35,
   "id": "fab3ebb0-88c5-4278-8989-3aff8db6b6ec",
   "metadata": {},
   "outputs": [
    {
     "data": {
      "text/plain": [
       "1"
      ]
     },
     "execution_count": 35,
     "metadata": {},
     "output_type": "execute_result"
    }
   ],
   "source": [
    "str1='hai hai hai'\n",
    "str1.count('a')  # All the 'a'\n",
    "str1.count('a',5)   # We are searching number of 'a' from index 3\n",
    "str1.count('a',4,8) # We are searching number of 'a' from index 4 to index 8"
   ]
  },
  {
   "cell_type": "code",
   "execution_count": 37,
   "id": "5ed070ca-f6c1-4071-a0dc-8a9fa8e50f70",
   "metadata": {},
   "outputs": [
    {
     "data": {
      "text/plain": [
       "2"
      ]
     },
     "execution_count": 37,
     "metadata": {},
     "output_type": "execute_result"
    }
   ],
   "source": [
    "str1.count('a',-8,-1)"
   ]
  },
  {
   "cell_type": "code",
   "execution_count": null,
   "id": "cd22bf2a-4720-4dfb-bdb0-58b29a83377c",
   "metadata": {},
   "outputs": [],
   "source": [
    "#-11 -10 -9 -8 -\n",
    "#h  a  i     h  a  i     h  a  i\n",
    "#0  1  2  3  4  5  6  7  8  9 10"
   ]
  },
  {
   "cell_type": "code",
   "execution_count": 96,
   "id": "b4d68845-1775-48fd-b60e-f37e3ba76b86",
   "metadata": {},
   "outputs": [
    {
     "name": "stdout",
     "output_type": "stream",
     "text": [
      "The number of ola:3\n"
     ]
    }
   ],
   "source": [
    "str1='ola ola ola'\n",
    "s2=''\n",
    "count=0\n",
    "for i in str1:\n",
    "    if i==' ':\n",
    "        if s2 == 'ola':\n",
    "            count=count+1\n",
    "        s2=''\n",
    "    else:\n",
    "        s2+=i\n",
    "if s2=='ola':\n",
    "    count=count+1\n",
    "print(f\"The number of ola:{count}\")"
   ]
  },
  {
   "cell_type": "markdown",
   "id": "907a45c5-4b20-4080-8896-0ed573593c51",
   "metadata": {},
   "source": [
    "**Window method**"
   ]
  },
  {
   "cell_type": "code",
   "execution_count": null,
   "id": "53d109b4-75e3-44e1-9839-5c8a27c97480",
   "metadata": {},
   "outputs": [],
   "source": [
    "for i in range(len(str1)):\n",
    "    if str1[i:i+3] == 'ola':\n",
    "        count=count+1\n",
    "# step-1: count=0 i=0 str1[0 :3] ==='ola'  True count=1\n",
    "# step-2:         i=1  str1[1:4] === 'ola'  F"
   ]
  },
  {
   "cell_type": "code",
   "execution_count": 47,
   "id": "6e039b3b-016e-491b-a8bf-02a00f6e918e",
   "metadata": {},
   "outputs": [
    {
     "data": {
      "text/plain": [
       "1"
      ]
     },
     "execution_count": 47,
     "metadata": {},
     "output_type": "execute_result"
    }
   ],
   "source": [
    "str1='ola ola ola'\n",
    "str1.count('ola ola ola')"
   ]
  },
  {
   "cell_type": "code",
   "execution_count": 48,
   "id": "5f4cf68f-cba2-46f6-91db-a840b806b73d",
   "metadata": {},
   "outputs": [
    {
     "data": {
      "text/plain": [
       "2"
      ]
     },
     "execution_count": 48,
     "metadata": {},
     "output_type": "execute_result"
    }
   ],
   "source": [
    "str1='ola ola ola'\n",
    "str1.count('ola ') # we are giving space after ola that why its is giving 2"
   ]
  },
  {
   "cell_type": "code",
   "execution_count": 52,
   "id": "0feb33dc-520b-46b1-a3df-068513e93af7",
   "metadata": {},
   "outputs": [
    {
     "data": {
      "text/plain": [
       "1"
      ]
     },
     "execution_count": 52,
     "metadata": {},
     "output_type": "execute_result"
    }
   ],
   "source": [
    "str1='ola ola ola'\n",
    "str1.count('ola ola') "
   ]
  },
  {
   "cell_type": "code",
   "execution_count": 53,
   "id": "438e226c-3542-486b-aa79-0ba31ac9b0cc",
   "metadata": {},
   "outputs": [
    {
     "data": {
      "text/plain": [
       "0"
      ]
     },
     "execution_count": 53,
     "metadata": {},
     "output_type": "execute_result"
    }
   ],
   "source": [
    "str1.count('z') # options : a) error b) zero c) empty string  d)None of the above\n",
    "# answer is 0 because it is counting the 'z' if there is no 'z' is present then it gives 0"
   ]
  },
  {
   "cell_type": "markdown",
   "id": "6bc3323c-1b09-4d57-8582-361a89598f0b",
   "metadata": {},
   "source": [
    "**Replace**"
   ]
  },
  {
   "cell_type": "code",
   "execution_count": null,
   "id": "52097c64-1ea5-484d-8f54-77f741924e94",
   "metadata": {},
   "outputs": [],
   "source": [
    "str1='welcome'\n",
    "#I want to replace 'l' with 'L'\n"
   ]
  },
  {
   "cell_type": "code",
   "execution_count": null,
   "id": "a03c116a-0834-442f-bdfc-213e734c3a9e",
   "metadata": {},
   "outputs": [],
   "source": [
    "# we know that strings are immutable\n",
    "# we can not use index operations also\n",
    "# slice and concatenation\n",
    "# Divide welcome: we   come\n",
    "# s1='we'\n",
    "# s2='come'\n",
    "# s1+L+s2  # not a good idea"
   ]
  },
  {
   "cell_type": "code",
   "execution_count": 62,
   "id": "5be0fa42-7866-414f-a7d7-5656c93650b5",
   "metadata": {},
   "outputs": [
    {
     "name": "stdout",
     "output_type": "stream",
     "text": [
      "weLcome\n"
     ]
    }
   ],
   "source": [
    "s='welcome'\n",
    "s1=s[0:2]\n",
    "s2=s[3:]\n",
    "s3='L'\n",
    "print(s1+s3+s2)"
   ]
  },
  {
   "cell_type": "code",
   "execution_count": 63,
   "id": "7cabff96-a285-45c9-a816-90dd78a215c2",
   "metadata": {},
   "outputs": [
    {
     "data": {
      "text/plain": [
       "'L'"
      ]
     },
     "execution_count": 63,
     "metadata": {},
     "output_type": "execute_result"
    }
   ],
   "source": [
    "chr(ord('l')-32) #Try this"
   ]
  },
  {
   "cell_type": "code",
   "execution_count": 66,
   "id": "e13a004b-3c2e-4345-8431-a7e493805dd0",
   "metadata": {},
   "outputs": [
    {
     "data": {
      "text/plain": [
       "'weLcome'"
      ]
     },
     "execution_count": 66,
     "metadata": {},
     "output_type": "execute_result"
    }
   ],
   "source": [
    "str1='welcome'\n",
    "str1.replace('l','L')"
   ]
  },
  {
   "cell_type": "code",
   "execution_count": 67,
   "id": "78068c75-4a8a-4314-8ea8-bec6538352ce",
   "metadata": {},
   "outputs": [
    {
     "data": {
      "text/plain": [
       "'weLLcome'"
      ]
     },
     "execution_count": 67,
     "metadata": {},
     "output_type": "execute_result"
    }
   ],
   "source": [
    "str1='wellcome'\n",
    "str1.replace('l','L')"
   ]
  },
  {
   "cell_type": "markdown",
   "id": "e9ce0f7b-352e-4661-80c3-2759833ab1be",
   "metadata": {},
   "source": [
    "- By default replace will change all the occurences\n",
    "\n",
    "- count=-1 is responsible for that\n",
    "\n",
    "- which means we can replace some count also ,which many I want to change\n",
    "\n",
    "- Give welllcome and change count=1 and count=2 explore it"
   ]
  },
  {
   "cell_type": "code",
   "execution_count": 76,
   "id": "de8bd077-9752-4a96-9663-b4c7e17fb6ac",
   "metadata": {},
   "outputs": [
    {
     "data": {
      "text/plain": [
       "'weLllcome'"
      ]
     },
     "execution_count": 76,
     "metadata": {},
     "output_type": "execute_result"
    }
   ],
   "source": [
    "str1='welllcome'\n",
    "str1.replace('l','L',1)\n",
    "# when we write count =1\n",
    "# It will change only one letter\n",
    "# that to first occurence only"
   ]
  },
  {
   "cell_type": "code",
   "execution_count": 81,
   "id": "18d187f6-b311-47ad-ac61-89829f41e2ca",
   "metadata": {},
   "outputs": [
    {
     "data": {
      "text/plain": [
       "'resta$t'"
      ]
     },
     "execution_count": 81,
     "metadata": {},
     "output_type": "execute_result"
    }
   ],
   "source": [
    "# Str1='restart'\n",
    "# i/p = 'resta$t'\n",
    "\n",
    "Str1='restart'\n",
    "s1=Str1[:1]\n",
    "s2=Str1[1:]\n",
    "s3=s2.replace('r','$')\n",
    "s1+s3\n",
    "# Str1[0]+ Str1[1:].replace('r','$')  ===> my thought\n",
    "# If we do this model then if the input has 100 letters then it is difficult for us to count"
   ]
  },
  {
   "cell_type": "code",
   "execution_count": 84,
   "id": "f90c2fa4-a334-4b0e-9e93-b92b6d0f2dd6",
   "metadata": {},
   "outputs": [
    {
     "data": {
      "text/plain": [
       "'resta$t'"
      ]
     },
     "execution_count": 84,
     "metadata": {},
     "output_type": "execute_result"
    }
   ],
   "source": [
    "Str1='restart'  # Smart answer from susmitha\n",
    "Str1[::-1].replace('r','$',1)[::-1]"
   ]
  },
  {
   "cell_type": "markdown",
   "id": "a635502d-90cd-47d9-a25c-a73cbb084dcf",
   "metadata": {},
   "source": [
    "**index-find**"
   ]
  },
  {
   "cell_type": "markdown",
   "id": "6ece7f0b-037c-4421-99bc-946607f68b3d",
   "metadata": {},
   "source": [
    "- upper\n",
    "\n",
    "- lower\n",
    "\n",
    "- casefold\n",
    "\n",
    "- title\n",
    "\n",
    "- capitalize\n",
    "\n",
    "- count\n",
    "\n",
    "- replace\n",
    "\n",
    "- index-find\n",
    "\n",
    "- split\n",
    "\n",
    "- strip\n",
    "\n",
    "- startswith"
   ]
  },
  {
   "cell_type": "code",
   "execution_count": 85,
   "id": "3cd777e5-dd44-4914-bba3-99d4fac5d9af",
   "metadata": {},
   "outputs": [
    {
     "data": {
      "text/plain": [
       "['__add__',\n",
       " '__class__',\n",
       " '__contains__',\n",
       " '__delattr__',\n",
       " '__dir__',\n",
       " '__doc__',\n",
       " '__eq__',\n",
       " '__format__',\n",
       " '__ge__',\n",
       " '__getattribute__',\n",
       " '__getitem__',\n",
       " '__getnewargs__',\n",
       " '__getstate__',\n",
       " '__gt__',\n",
       " '__hash__',\n",
       " '__init__',\n",
       " '__init_subclass__',\n",
       " '__iter__',\n",
       " '__le__',\n",
       " '__len__',\n",
       " '__lt__',\n",
       " '__mod__',\n",
       " '__mul__',\n",
       " '__ne__',\n",
       " '__new__',\n",
       " '__reduce__',\n",
       " '__reduce_ex__',\n",
       " '__repr__',\n",
       " '__rmod__',\n",
       " '__rmul__',\n",
       " '__setattr__',\n",
       " '__sizeof__',\n",
       " '__str__',\n",
       " '__subclasshook__',\n",
       " 'capitalize',\n",
       " 'casefold',\n",
       " 'center',\n",
       " 'count',\n",
       " 'encode',\n",
       " 'endswith',\n",
       " 'expandtabs',\n",
       " 'find',\n",
       " 'format',\n",
       " 'format_map',\n",
       " 'index',\n",
       " 'isalnum',\n",
       " 'isalpha',\n",
       " 'isascii',\n",
       " 'isdecimal',\n",
       " 'isdigit',\n",
       " 'isidentifier',\n",
       " 'islower',\n",
       " 'isnumeric',\n",
       " 'isprintable',\n",
       " 'isspace',\n",
       " 'istitle',\n",
       " 'isupper',\n",
       " 'join',\n",
       " 'ljust',\n",
       " 'lower',\n",
       " 'lstrip',\n",
       " 'maketrans',\n",
       " 'partition',\n",
       " 'removeprefix',\n",
       " 'removesuffix',\n",
       " 'replace',\n",
       " 'rfind',\n",
       " 'rindex',\n",
       " 'rjust',\n",
       " 'rpartition',\n",
       " 'rsplit',\n",
       " 'rstrip',\n",
       " 'split',\n",
       " 'splitlines',\n",
       " 'startswith',\n",
       " 'strip',\n",
       " 'swapcase',\n",
       " 'title',\n",
       " 'translate',\n",
       " 'upper',\n",
       " 'zfill']"
      ]
     },
     "execution_count": 85,
     "metadata": {},
     "output_type": "execute_result"
    }
   ],
   "source": [
    "dir('')"
   ]
  },
  {
   "cell_type": "code",
   "execution_count": null,
   "id": "dce477b3-abb0-4b7f-97b9-f113e0f8a33d",
   "metadata": {},
   "outputs": [],
   "source": [
    "'isalnum',\n",
    " 'isalpha',\n",
    " 'isascii',\n",
    " 'isdecimal',\n",
    " 'isdigit',\n",
    " 'isidentifier',\n",
    " 'islower',\n",
    " 'isnumeric',\n",
    " 'isprintable',\n",
    " 'isspace',\n",
    " 'istitle',\n",
    " 'isupper',"
   ]
  },
  {
   "cell_type": "code",
   "execution_count": 89,
   "id": "751f3d79-2bac-4762-904a-24e411c12835",
   "metadata": {},
   "outputs": [
    {
     "data": {
      "text/plain": [
       "True"
      ]
     },
     "execution_count": 89,
     "metadata": {},
     "output_type": "execute_result"
    }
   ],
   "source": [
    "str1='HELLO'\n",
    "str1.isupper()"
   ]
  },
  {
   "cell_type": "markdown",
   "id": "312db44e-75b6-443c-afd2-3d937924b3bd",
   "metadata": {},
   "source": [
    "**17 th july**"
   ]
  },
  {
   "cell_type": "code",
   "execution_count": null,
   "id": "907e3d09-65bc-4e42-8513-ed6cef3b9619",
   "metadata": {},
   "outputs": [],
   "source": [
    "**Index**\n",
    "\n",
    "- index says that it will give the index of any letter in a given strings\n",
    "\n",
    "- we already seen about count: Count will give how many letters are there in a string\n",
    "\n",
    "   - at what index you want to count\n",
    "\n",
    "   - between indexes also we can count the letters\n",
    "\n",
    "- index meaning it will provide the index\n",
    "\n",
    "- Imagine that some letters are repeated .\n",
    "\n",
    "-\n",
    "\n"
   ]
  },
  {
   "cell_type": "code",
   "execution_count": 1,
   "id": "8e4e4e29-1275-4b75-b2da-2fe2282ca3d1",
   "metadata": {},
   "outputs": [
    {
     "data": {
      "text/plain": [
       "1"
      ]
     },
     "execution_count": 1,
     "metadata": {},
     "output_type": "execute_result"
    }
   ],
   "source": [
    "str1='hai hai hai'\n",
    "str1.index('a')\n",
    "# Return the lowest index in String where Substring sub is found,\n"
   ]
  },
  {
   "cell_type": "code",
   "execution_count": 3,
   "id": "5942750f-f95e-4639-9571-6ff65edfcca3",
   "metadata": {},
   "outputs": [
    {
     "data": {
      "text/plain": [
       "5"
      ]
     },
     "execution_count": 3,
     "metadata": {},
     "output_type": "execute_result"
    }
   ],
   "source": [
    "# I want to know next 'a' index after 3rd index\n",
    "str1='hai hai hai'\n",
    "str1.index('a',3)\n",
    "# After 3rd index the lowest index of a is 5"
   ]
  },
  {
   "cell_type": "code",
   "execution_count": 4,
   "id": "bd8722bd-3fc5-4d67-9a3e-6e790b64c264",
   "metadata": {},
   "outputs": [
    {
     "data": {
      "text/plain": [
       "5"
      ]
     },
     "execution_count": 4,
     "metadata": {},
     "output_type": "execute_result"
    }
   ],
   "source": [
    "# I want to know next 'a' index after 3rd index\n",
    "str1='hai hai hai'\n",
    "str1.index('a',3,7)\n",
    "# Between 3 and 7  the lowest index of a is 5 only"
   ]
  },
  {
   "cell_type": "code",
   "execution_count": 11,
   "id": "54f77886-d871-4b1a-9962-7b963d636ff0",
   "metadata": {},
   "outputs": [
    {
     "data": {
      "text/plain": [
       "5"
      ]
     },
     "execution_count": 11,
     "metadata": {},
     "output_type": "execute_result"
    }
   ],
   "source": [
    "str1.index('a',-9,-1)\n",
    "\n",
    "# h   a   i         h     a    i         h     a     i"
   ]
  },
  {
   "cell_type": "code",
   "execution_count": 13,
   "id": "5641210c-28a0-4a87-abf7-a4d4c4f66a56",
   "metadata": {},
   "outputs": [
    {
     "data": {
      "text/plain": [
       "5"
      ]
     },
     "execution_count": 13,
     "metadata": {},
     "output_type": "execute_result"
    }
   ],
   "source": [
    "str1.index('a',-9,-4)"
   ]
  },
  {
   "cell_type": "code",
   "execution_count": 14,
   "id": "58b12276-7f57-467f-be30-96d6becf2962",
   "metadata": {},
   "outputs": [
    {
     "ename": "ValueError",
     "evalue": "substring not found",
     "output_type": "error",
     "traceback": [
      "\u001b[1;31m---------------------------------------------------------------------------\u001b[0m",
      "\u001b[1;31mValueError\u001b[0m                                Traceback (most recent call last)",
      "Cell \u001b[1;32mIn[14], line 1\u001b[0m\n\u001b[1;32m----> 1\u001b[0m str1\u001b[38;5;241m.\u001b[39mindex(\u001b[38;5;124m'\u001b[39m\u001b[38;5;124ma\u001b[39m\u001b[38;5;124m'\u001b[39m,\u001b[38;5;241m-\u001b[39m\u001b[38;5;241m9\u001b[39m,\u001b[38;5;241m-\u001b[39m\u001b[38;5;241m6\u001b[39m)\n",
      "\u001b[1;31mValueError\u001b[0m: substring not found"
     ]
    }
   ],
   "source": [
    "str1.index('a',-9,-6)\n",
    "# Positive direction"
   ]
  },
  {
   "cell_type": "code",
   "execution_count": 20,
   "id": "f100ec25-18dd-4435-8b42-5d6da088146a",
   "metadata": {},
   "outputs": [
    {
     "name": "stdout",
     "output_type": "stream",
     "text": [
      "3\n",
      "2\n",
      "1\n"
     ]
    }
   ],
   "source": [
    "str1='hai hai hai'\n",
    "print(str1.count('a'))\n",
    "print(str1.count('a',3))\n",
    "print(str1.count('a',3,7))"
   ]
  },
  {
   "cell_type": "code",
   "execution_count": 22,
   "id": "e2d85eef-c792-4ea4-ae51-560b82e04a4f",
   "metadata": {},
   "outputs": [
    {
     "name": "stdout",
     "output_type": "stream",
     "text": [
      "1\n",
      "5\n",
      "5\n"
     ]
    }
   ],
   "source": [
    "str1='hai hai hai'\n",
    "print(str1.index('a'))\n",
    "print(str1.index('a',3))\n",
    "print(str1.index('a',3,7))"
   ]
  },
  {
   "cell_type": "code",
   "execution_count": 26,
   "id": "d5603d03-e66e-4f1f-bb25-124edefc34b7",
   "metadata": {},
   "outputs": [
    {
     "name": "stdout",
     "output_type": "stream",
     "text": [
      "1\n",
      "5\n",
      "9\n"
     ]
    }
   ],
   "source": [
    "str1='hai hai hai'\n",
    "# I want to know all indexes of 'a'\n",
    "# \n",
    "for i in range(len(str1)):\n",
    "    if str1[i]=='a':\n",
    "        print(i)"
   ]
  },
  {
   "cell_type": "code",
   "execution_count": null,
   "id": "1a43f25f-f9a0-44db-9073-ec9c089c0cfc",
   "metadata": {},
   "outputs": [],
   "source": [
    "# h"
   ]
  },
  {
   "cell_type": "code",
   "execution_count": 28,
   "id": "bca132fe-f99a-4228-87ae-51d5b65ad011",
   "metadata": {},
   "outputs": [
    {
     "data": {
      "text/plain": [
       "1"
      ]
     },
     "execution_count": 28,
     "metadata": {},
     "output_type": "execute_result"
    }
   ],
   "source": [
    "str1='hai hai hai'\n",
    "i1=str1.index('a')\n",
    "i1"
   ]
  },
  {
   "cell_type": "code",
   "execution_count": 31,
   "id": "0134a51b-6687-477b-b379-a74c23bb4a94",
   "metadata": {},
   "outputs": [
    {
     "data": {
      "text/plain": [
       "5"
      ]
     },
     "execution_count": 31,
     "metadata": {},
     "output_type": "execute_result"
    }
   ],
   "source": [
    "i2=str1.index('a',i1+1)\n",
    "i2"
   ]
  },
  {
   "cell_type": "code",
   "execution_count": 33,
   "id": "f4e10d1e-bb50-458d-a16f-22fdf9b22e27",
   "metadata": {},
   "outputs": [
    {
     "data": {
      "text/plain": [
       "9"
      ]
     },
     "execution_count": 33,
     "metadata": {},
     "output_type": "execute_result"
    }
   ],
   "source": [
    "i3=str1.index('a',i2+1)\n",
    "i3"
   ]
  },
  {
   "cell_type": "code",
   "execution_count": 55,
   "id": "a76c9370-1df4-463a-bf21-55f3f5a3ca5e",
   "metadata": {},
   "outputs": [
    {
     "name": "stdout",
     "output_type": "stream",
     "text": [
      "1\n",
      "5\n",
      "9\n",
      "13\n"
     ]
    },
    {
     "ename": "ValueError",
     "evalue": "substring not found",
     "output_type": "error",
     "traceback": [
      "\u001b[1;31m---------------------------------------------------------------------------\u001b[0m",
      "\u001b[1;31mValueError\u001b[0m                                Traceback (most recent call last)",
      "Cell \u001b[1;32mIn[55], line 10\u001b[0m\n\u001b[0;32m      8\u001b[0m i4\u001b[38;5;241m=\u001b[39mstr1\u001b[38;5;241m.\u001b[39mindex(\u001b[38;5;124m'\u001b[39m\u001b[38;5;124ma\u001b[39m\u001b[38;5;124m'\u001b[39m,i3\u001b[38;5;241m+\u001b[39m\u001b[38;5;241m1\u001b[39m)\n\u001b[0;32m      9\u001b[0m \u001b[38;5;28mprint\u001b[39m(i4)\n\u001b[1;32m---> 10\u001b[0m i5\u001b[38;5;241m=\u001b[39mstr1\u001b[38;5;241m.\u001b[39mindex(\u001b[38;5;124m'\u001b[39m\u001b[38;5;124ma\u001b[39m\u001b[38;5;124m'\u001b[39m,i4\u001b[38;5;241m+\u001b[39m\u001b[38;5;241m1\u001b[39m)\n\u001b[0;32m     11\u001b[0m \u001b[38;5;28mprint\u001b[39m(i5)\n",
      "\u001b[1;31mValueError\u001b[0m: substring not found"
     ]
    }
   ],
   "source": [
    "str1='hai hai hai hai'\n",
    "i1=str1.index('a')\n",
    "print(i1)\n",
    "i2=str1.index('a',i1+1)\n",
    "print(i2)\n",
    "i3=str1.index('a',i2+1)\n",
    "print(i3)\n",
    "i4=str1.index('a',i3+1)\n",
    "print(i4)\n",
    "i5=str1.index('a',i4+1)\n",
    "print(i5)"
   ]
  },
  {
   "cell_type": "markdown",
   "id": "5c4f66f0-88f9-4fc0-a661-af8b8ad5ee45",
   "metadata": {},
   "source": [
    "**find**"
   ]
  },
  {
   "cell_type": "code",
   "execution_count": 49,
   "id": "00b9a7d5-2562-401d-b7bb-2537e8a6d670",
   "metadata": {},
   "outputs": [
    {
     "data": {
      "text/plain": [
       "1"
      ]
     },
     "execution_count": 49,
     "metadata": {},
     "output_type": "execute_result"
    }
   ],
   "source": [
    "str1='hai hai hai'\n",
    "str1.find('a')\n",
    "\n",
    "# h  a  i     h   a   i     h  a  i\n",
    "# 0  1  2  3  4   5   6  7  8  9 10 "
   ]
  },
  {
   "cell_type": "code",
   "execution_count": 54,
   "id": "6908e360-1f71-4db3-86aa-95cc8a510481",
   "metadata": {},
   "outputs": [
    {
     "name": "stdout",
     "output_type": "stream",
     "text": [
      "1\n",
      "5\n",
      "9\n",
      "-1\n"
     ]
    }
   ],
   "source": [
    "i1=str1.find('a',)\n",
    "print(i1)\n",
    "i2=str1.find('a',i1+1)\n",
    "print(i2)\n",
    "i3=str1.find('a',i2+1)\n",
    "print(i3)\n",
    "i4=str1.find('a',i+31)\n",
    "print(i4)"
   ]
  },
  {
   "cell_type": "code",
   "execution_count": 57,
   "id": "8af62db9-563b-464a-87e1-8a8129d0c484",
   "metadata": {},
   "outputs": [
    {
     "data": {
      "text/plain": [
       "0"
      ]
     },
     "execution_count": 57,
     "metadata": {},
     "output_type": "execute_result"
    }
   ],
   "source": [
    "str1='hai hai hai'\n",
    "str1.count('z')"
   ]
  },
  {
   "cell_type": "code",
   "execution_count": 59,
   "id": "b9f8c969-9841-4f65-a24f-bf3387762e28",
   "metadata": {},
   "outputs": [
    {
     "data": {
      "text/plain": [
       "'hai hai hai'"
      ]
     },
     "execution_count": 59,
     "metadata": {},
     "output_type": "execute_result"
    }
   ],
   "source": [
    "str1='hai hai hai'\n",
    "str1.replace('z','Z')"
   ]
  },
  {
   "cell_type": "markdown",
   "id": "d0bdb955-13b0-4fb3-b41e-66b965dce449",
   "metadata": {},
   "source": [
    "- If substring not found \n",
    "\n",
    "  - Count method will give **0**\n",
    "\n",
    "  - replace method will give original string\n",
    "\n",
    "  - index will give **Sub string not found error**\n",
    "\n",
    "  - find will give **-1**"
   ]
  },
  {
   "cell_type": "code",
   "execution_count": null,
   "id": "273a152c-4f3e-4a73-ac99-afc018618203",
   "metadata": {},
   "outputs": [],
   "source": [
    "str1='omkar.nallagoni@cognizant.com'\n",
    "# First name= omkar\n",
    "# second name= nallagoni\n",
    "# company name= cognizant\n",
    "\n",
    "\n",
    "#idea: find the triggers\n",
    "# For first name '.'\n",
    "# for second name '.' and '@'\n",
    "# for company name '@' and second"
   ]
  },
  {
   "cell_type": "code",
   "execution_count": 70,
   "id": "41cb3733-af8b-463b-a68c-fa30451193ce",
   "metadata": {},
   "outputs": [
    {
     "name": "stdin",
     "output_type": "stream",
     "text": [
      " kohli.virat@rcb.com\n"
     ]
    },
    {
     "name": "stdout",
     "output_type": "stream",
     "text": [
      "First name:kohli\n",
      "Second name:virat\n",
      "Company name:rcb\n"
     ]
    }
   ],
   "source": [
    "str1=input()\n",
    "i1=str1.index('.')\n",
    "i2=str1.index('@')\n",
    "i3=str1.index('.',i1+1)\n",
    "print(f\"First name:{str1[:i1]}\") \n",
    "print(f\"Second name:{str1[i1+1:i2]}\")\n",
    "print(f\"Company name:{str1[i2+1:i3]}\")"
   ]
  },
  {
   "cell_type": "markdown",
   "id": "365a8904-5e9f-48a1-a87a-900e409ed730",
   "metadata": {},
   "source": [
    "\n",
    "\n",
    "- upper/lower/casefold\n",
    "\n",
    "- capitalize/Title\n",
    "\n",
    "- center\n",
    "\n",
    "- Count\n",
    "\n",
    "- Replace\n",
    "\n",
    "- index/find\n",
    "\n",
    "- start with is\n"
   ]
  },
  {
   "cell_type": "markdown",
   "id": "9077e81d-28d6-4a56-ab94-f52bef984eb6",
   "metadata": {},
   "source": [
    "- split\n",
    "\n",
    "- strip/lstrip/rstrip\n",
    "\n",
    "- startswith /endswith"
   ]
  },
  {
   "cell_type": "code",
   "execution_count": null,
   "id": "630058d1-e411-4b11-9a13-98b657205bb9",
   "metadata": {},
   "outputs": [],
   "source": []
  }
 ],
 "metadata": {
  "kernelspec": {
   "display_name": "Python 3 (ipykernel)",
   "language": "python",
   "name": "python3"
  },
  "language_info": {
   "codemirror_mode": {
    "name": "ipython",
    "version": 3
   },
   "file_extension": ".py",
   "mimetype": "text/x-python",
   "name": "python",
   "nbconvert_exporter": "python",
   "pygments_lexer": "ipython3",
   "version": "3.11.7"
  }
 },
 "nbformat": 4,
 "nbformat_minor": 5
}
